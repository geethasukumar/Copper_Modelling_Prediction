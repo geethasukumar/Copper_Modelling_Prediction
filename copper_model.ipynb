{
 "cells": [
  {
   "cell_type": "code",
   "execution_count": 1,
   "id": "f8fa05ba",
   "metadata": {},
   "outputs": [],
   "source": [
    "#import necessary libraries\n",
    "import pandas as pd\n",
    "import seaborn as sns\n",
    "import numpy as np\n",
    "import matplotlib.pyplot as plt\n",
    "import warnings\n",
    "warnings.filterwarnings(\"ignore\")"
   ]
  },
  {
   "cell_type": "code",
   "execution_count": 2,
   "id": "da4462dd",
   "metadata": {},
   "outputs": [
    {
     "data": {
      "text/plain": [
       "(181673, 14)"
      ]
     },
     "execution_count": 2,
     "metadata": {},
     "output_type": "execute_result"
    }
   ],
   "source": [
    "#Load the dataset\n",
    "df = pd.read_csv('Copper_Set.csv')\n",
    "df.shape"
   ]
  },
  {
   "cell_type": "code",
   "execution_count": 3,
   "id": "2fd3ba31",
   "metadata": {},
   "outputs": [
    {
     "data": {
      "text/plain": [
       "Index(['id', 'item_date', 'quantity tons', 'customer', 'country', 'status',\n",
       "       'item type', 'application', 'thickness', 'width', 'material_ref',\n",
       "       'product_ref', 'delivery date', 'selling_price'],\n",
       "      dtype='object')"
      ]
     },
     "execution_count": 3,
     "metadata": {},
     "output_type": "execute_result"
    }
   ],
   "source": [
    "df.head(3)\n",
    "df.columns"
   ]
  },
  {
   "cell_type": "markdown",
   "id": "db518f9d",
   "metadata": {},
   "source": [
    "## Data Pre-Processing"
   ]
  },
  {
   "cell_type": "code",
   "execution_count": 4,
   "id": "1ceccb40",
   "metadata": {},
   "outputs": [],
   "source": [
    "df['item_date'] = pd.to_datetime(df['item_date'], format='%Y%m%d', errors='coerce').dt.date\n",
    "df['quantity tons'] = pd.to_numeric(df['quantity tons'], errors='coerce')\n",
    "df['customer'] = pd.to_numeric(df['customer'], errors='coerce')\n",
    "df['country'] = pd.to_numeric(df['country'], errors='coerce')\n",
    "df['application'] = pd.to_numeric(df['application'], errors='coerce')\n",
    "df['thickness'] = pd.to_numeric(df['thickness'], errors='coerce')\n",
    "df['width'] = pd.to_numeric(df['width'], errors='coerce')\n",
    "df['material_ref'] = df['material_ref'].str.lstrip('0')\n",
    "df['product_ref'] = pd.to_numeric(df['product_ref'], errors='coerce')\n",
    "df['delivery date'] = pd.to_datetime(df['delivery date'], format='%Y%m%d', errors='coerce').dt.date\n",
    "df['selling_price'] = pd.to_numeric(df['selling_price'], errors='coerce')"
   ]
  },
  {
   "cell_type": "code",
   "execution_count": 5,
   "id": "be38ec96",
   "metadata": {},
   "outputs": [
    {
     "data": {
      "text/html": [
       "<div>\n",
       "<style scoped>\n",
       "    .dataframe tbody tr th:only-of-type {\n",
       "        vertical-align: middle;\n",
       "    }\n",
       "\n",
       "    .dataframe tbody tr th {\n",
       "        vertical-align: top;\n",
       "    }\n",
       "\n",
       "    .dataframe thead th {\n",
       "        text-align: right;\n",
       "    }\n",
       "</style>\n",
       "<table border=\"1\" class=\"dataframe\">\n",
       "  <thead>\n",
       "    <tr style=\"text-align: right;\">\n",
       "      <th></th>\n",
       "      <th>id</th>\n",
       "      <th>item_date</th>\n",
       "      <th>quantity tons</th>\n",
       "      <th>customer</th>\n",
       "      <th>country</th>\n",
       "      <th>status</th>\n",
       "      <th>item type</th>\n",
       "      <th>application</th>\n",
       "      <th>thickness</th>\n",
       "      <th>width</th>\n",
       "      <th>material_ref</th>\n",
       "      <th>product_ref</th>\n",
       "      <th>delivery date</th>\n",
       "      <th>selling_price</th>\n",
       "    </tr>\n",
       "  </thead>\n",
       "  <tbody>\n",
       "    <tr>\n",
       "      <th>0</th>\n",
       "      <td>EC06F063-9DF0-440C-8764-0B0C05A4F6AE</td>\n",
       "      <td>2021-04-01</td>\n",
       "      <td>54.151139</td>\n",
       "      <td>30156308.0</td>\n",
       "      <td>28.0</td>\n",
       "      <td>Won</td>\n",
       "      <td>W</td>\n",
       "      <td>10.0</td>\n",
       "      <td>2.00</td>\n",
       "      <td>1500.0</td>\n",
       "      <td>DEQ1 S460MC</td>\n",
       "      <td>1670798778</td>\n",
       "      <td>2021-07-01</td>\n",
       "      <td>854.00</td>\n",
       "    </tr>\n",
       "    <tr>\n",
       "      <th>1</th>\n",
       "      <td>4E5F4B3D-DDDF-499D-AFDE-A3227EC49425</td>\n",
       "      <td>2021-04-01</td>\n",
       "      <td>768.024839</td>\n",
       "      <td>30202938.0</td>\n",
       "      <td>25.0</td>\n",
       "      <td>Won</td>\n",
       "      <td>W</td>\n",
       "      <td>41.0</td>\n",
       "      <td>0.80</td>\n",
       "      <td>1210.0</td>\n",
       "      <td>104991</td>\n",
       "      <td>1668701718</td>\n",
       "      <td>2021-04-01</td>\n",
       "      <td>1047.00</td>\n",
       "    </tr>\n",
       "    <tr>\n",
       "      <th>2</th>\n",
       "      <td>E140FF1B-2407-4C02-A0DD-780A093B1158</td>\n",
       "      <td>2021-04-01</td>\n",
       "      <td>386.127949</td>\n",
       "      <td>30153963.0</td>\n",
       "      <td>30.0</td>\n",
       "      <td>Won</td>\n",
       "      <td>WI</td>\n",
       "      <td>28.0</td>\n",
       "      <td>0.38</td>\n",
       "      <td>952.0</td>\n",
       "      <td>S0380700</td>\n",
       "      <td>628377</td>\n",
       "      <td>2021-01-01</td>\n",
       "      <td>644.33</td>\n",
       "    </tr>\n",
       "    <tr>\n",
       "      <th>3</th>\n",
       "      <td>F8D507A0-9C62-4EFE-831E-33E1DA53BB50</td>\n",
       "      <td>2021-04-01</td>\n",
       "      <td>202.411065</td>\n",
       "      <td>30349574.0</td>\n",
       "      <td>32.0</td>\n",
       "      <td>Won</td>\n",
       "      <td>S</td>\n",
       "      <td>59.0</td>\n",
       "      <td>2.30</td>\n",
       "      <td>1317.0</td>\n",
       "      <td>DX51D+ZM310MAO 2.3X1317</td>\n",
       "      <td>1668701718</td>\n",
       "      <td>2021-01-01</td>\n",
       "      <td>768.00</td>\n",
       "    </tr>\n",
       "    <tr>\n",
       "      <th>4</th>\n",
       "      <td>4E1C4E78-152B-430A-8094-ADD889C9D0AD</td>\n",
       "      <td>2021-04-01</td>\n",
       "      <td>785.526262</td>\n",
       "      <td>30211560.0</td>\n",
       "      <td>28.0</td>\n",
       "      <td>Won</td>\n",
       "      <td>W</td>\n",
       "      <td>10.0</td>\n",
       "      <td>4.00</td>\n",
       "      <td>2000.0</td>\n",
       "      <td>2_S275JR+AR-CL1</td>\n",
       "      <td>640665</td>\n",
       "      <td>2021-03-01</td>\n",
       "      <td>577.00</td>\n",
       "    </tr>\n",
       "    <tr>\n",
       "      <th>5</th>\n",
       "      <td>FE372230-29B1-4A29-BB73-CB9D3078C286</td>\n",
       "      <td>2021-04-01</td>\n",
       "      <td>225.790676</td>\n",
       "      <td>30202938.0</td>\n",
       "      <td>25.0</td>\n",
       "      <td>Won</td>\n",
       "      <td>W</td>\n",
       "      <td>41.0</td>\n",
       "      <td>1.50</td>\n",
       "      <td>1265.0</td>\n",
       "      <td>102325</td>\n",
       "      <td>1668701718</td>\n",
       "      <td>2021-04-01</td>\n",
       "      <td>983.00</td>\n",
       "    </tr>\n",
       "    <tr>\n",
       "      <th>6</th>\n",
       "      <td>E1B47219-42C8-411D-AE46-AD5256DC4757</td>\n",
       "      <td>2021-04-01</td>\n",
       "      <td>3.522613</td>\n",
       "      <td>30209509.0</td>\n",
       "      <td>30.0</td>\n",
       "      <td>Draft</td>\n",
       "      <td>W</td>\n",
       "      <td>41.0</td>\n",
       "      <td>0.38</td>\n",
       "      <td>1125.0</td>\n",
       "      <td>NBW_L+_A_1125_0.4</td>\n",
       "      <td>611993</td>\n",
       "      <td>2021-07-01</td>\n",
       "      <td>18.00</td>\n",
       "    </tr>\n",
       "    <tr>\n",
       "      <th>7</th>\n",
       "      <td>AA3F18A2-A7D6-43DE-8644-F0632AE2CB68</td>\n",
       "      <td>2021-04-01</td>\n",
       "      <td>113.387124</td>\n",
       "      <td>30342192.0</td>\n",
       "      <td>32.0</td>\n",
       "      <td>Won</td>\n",
       "      <td>W</td>\n",
       "      <td>41.0</td>\n",
       "      <td>0.68</td>\n",
       "      <td>1220.0</td>\n",
       "      <td>1000944</td>\n",
       "      <td>611993</td>\n",
       "      <td>2021-01-01</td>\n",
       "      <td>931.00</td>\n",
       "    </tr>\n",
       "    <tr>\n",
       "      <th>8</th>\n",
       "      <td>2851F48B-DA32-4DF3-884B-17A3100DD65A</td>\n",
       "      <td>2021-04-01</td>\n",
       "      <td>69.071853</td>\n",
       "      <td>30341428.0</td>\n",
       "      <td>38.0</td>\n",
       "      <td>Won</td>\n",
       "      <td>S</td>\n",
       "      <td>10.0</td>\n",
       "      <td>0.60</td>\n",
       "      <td>1275.0</td>\n",
       "      <td>106786</td>\n",
       "      <td>1668701376</td>\n",
       "      <td>2021-07-01</td>\n",
       "      <td>1363.00</td>\n",
       "    </tr>\n",
       "    <tr>\n",
       "      <th>9</th>\n",
       "      <td>6E4D638C-A820-4A40-836F-C9D48BC65528</td>\n",
       "      <td>2021-04-01</td>\n",
       "      <td>630.626917</td>\n",
       "      <td>30202938.0</td>\n",
       "      <td>25.0</td>\n",
       "      <td>Won</td>\n",
       "      <td>W</td>\n",
       "      <td>41.0</td>\n",
       "      <td>1.50</td>\n",
       "      <td>1165.0</td>\n",
       "      <td>102325</td>\n",
       "      <td>1668701718</td>\n",
       "      <td>2021-04-01</td>\n",
       "      <td>983.00</td>\n",
       "    </tr>\n",
       "  </tbody>\n",
       "</table>\n",
       "</div>"
      ],
      "text/plain": [
       "                                     id   item_date  quantity tons  \\\n",
       "0  EC06F063-9DF0-440C-8764-0B0C05A4F6AE  2021-04-01      54.151139   \n",
       "1  4E5F4B3D-DDDF-499D-AFDE-A3227EC49425  2021-04-01     768.024839   \n",
       "2  E140FF1B-2407-4C02-A0DD-780A093B1158  2021-04-01     386.127949   \n",
       "3  F8D507A0-9C62-4EFE-831E-33E1DA53BB50  2021-04-01     202.411065   \n",
       "4  4E1C4E78-152B-430A-8094-ADD889C9D0AD  2021-04-01     785.526262   \n",
       "5  FE372230-29B1-4A29-BB73-CB9D3078C286  2021-04-01     225.790676   \n",
       "6  E1B47219-42C8-411D-AE46-AD5256DC4757  2021-04-01       3.522613   \n",
       "7  AA3F18A2-A7D6-43DE-8644-F0632AE2CB68  2021-04-01     113.387124   \n",
       "8  2851F48B-DA32-4DF3-884B-17A3100DD65A  2021-04-01      69.071853   \n",
       "9  6E4D638C-A820-4A40-836F-C9D48BC65528  2021-04-01     630.626917   \n",
       "\n",
       "     customer  country status item type  application  thickness   width  \\\n",
       "0  30156308.0     28.0    Won         W         10.0       2.00  1500.0   \n",
       "1  30202938.0     25.0    Won         W         41.0       0.80  1210.0   \n",
       "2  30153963.0     30.0    Won        WI         28.0       0.38   952.0   \n",
       "3  30349574.0     32.0    Won         S         59.0       2.30  1317.0   \n",
       "4  30211560.0     28.0    Won         W         10.0       4.00  2000.0   \n",
       "5  30202938.0     25.0    Won         W         41.0       1.50  1265.0   \n",
       "6  30209509.0     30.0  Draft         W         41.0       0.38  1125.0   \n",
       "7  30342192.0     32.0    Won         W         41.0       0.68  1220.0   \n",
       "8  30341428.0     38.0    Won         S         10.0       0.60  1275.0   \n",
       "9  30202938.0     25.0    Won         W         41.0       1.50  1165.0   \n",
       "\n",
       "              material_ref  product_ref delivery date  selling_price  \n",
       "0              DEQ1 S460MC   1670798778    2021-07-01         854.00  \n",
       "1                   104991   1668701718    2021-04-01        1047.00  \n",
       "2                 S0380700       628377    2021-01-01         644.33  \n",
       "3  DX51D+ZM310MAO 2.3X1317   1668701718    2021-01-01         768.00  \n",
       "4          2_S275JR+AR-CL1       640665    2021-03-01         577.00  \n",
       "5                   102325   1668701718    2021-04-01         983.00  \n",
       "6        NBW_L+_A_1125_0.4       611993    2021-07-01          18.00  \n",
       "7                  1000944       611993    2021-01-01         931.00  \n",
       "8                   106786   1668701376    2021-07-01        1363.00  \n",
       "9                   102325   1668701718    2021-04-01         983.00  "
      ]
     },
     "execution_count": 5,
     "metadata": {},
     "output_type": "execute_result"
    }
   ],
   "source": [
    "df.head(10)"
   ]
  },
  {
   "cell_type": "markdown",
   "id": "5eb16ae5",
   "metadata": {},
   "source": [
    "## EDA"
   ]
  },
  {
   "cell_type": "code",
   "execution_count": 6,
   "id": "25aad46d",
   "metadata": {},
   "outputs": [
    {
     "name": "stdout",
     "output_type": "stream",
     "text": [
      "<class 'pandas.core.frame.DataFrame'>\n",
      "RangeIndex: 181673 entries, 0 to 181672\n",
      "Data columns (total 14 columns):\n",
      " #   Column         Non-Null Count   Dtype  \n",
      "---  ------         --------------   -----  \n",
      " 0   id             181671 non-null  object \n",
      " 1   item_date      181670 non-null  object \n",
      " 2   quantity tons  181672 non-null  float64\n",
      " 3   customer       181672 non-null  float64\n",
      " 4   country        181645 non-null  float64\n",
      " 5   status         181671 non-null  object \n",
      " 6   item type      181673 non-null  object \n",
      " 7   application    181649 non-null  float64\n",
      " 8   thickness      181672 non-null  float64\n",
      " 9   width          181673 non-null  float64\n",
      " 10  material_ref   103754 non-null  object \n",
      " 11  product_ref    181673 non-null  int64  \n",
      " 12  delivery date  181670 non-null  object \n",
      " 13  selling_price  181672 non-null  float64\n",
      "dtypes: float64(7), int64(1), object(6)\n",
      "memory usage: 19.4+ MB\n"
     ]
    }
   ],
   "source": [
    "df.info()"
   ]
  },
  {
   "cell_type": "code",
   "execution_count": 7,
   "id": "ad2fce8b",
   "metadata": {},
   "outputs": [
    {
     "data": {
      "text/plain": [
       "Index(['id', 'item_date', 'quantity tons', 'customer', 'country', 'status',\n",
       "       'item type', 'application', 'thickness', 'width', 'material_ref',\n",
       "       'product_ref', 'delivery date', 'selling_price'],\n",
       "      dtype='object')"
      ]
     },
     "execution_count": 7,
     "metadata": {},
     "output_type": "execute_result"
    }
   ],
   "source": [
    "df.columns"
   ]
  },
  {
   "cell_type": "code",
   "execution_count": 8,
   "id": "b2562b48",
   "metadata": {},
   "outputs": [
    {
     "data": {
      "text/html": [
       "<div>\n",
       "<style scoped>\n",
       "    .dataframe tbody tr th:only-of-type {\n",
       "        vertical-align: middle;\n",
       "    }\n",
       "\n",
       "    .dataframe tbody tr th {\n",
       "        vertical-align: top;\n",
       "    }\n",
       "\n",
       "    .dataframe thead th {\n",
       "        text-align: right;\n",
       "    }\n",
       "</style>\n",
       "<table border=\"1\" class=\"dataframe\">\n",
       "  <thead>\n",
       "    <tr style=\"text-align: right;\">\n",
       "      <th></th>\n",
       "      <th>quantity tons</th>\n",
       "      <th>customer</th>\n",
       "      <th>country</th>\n",
       "      <th>application</th>\n",
       "      <th>thickness</th>\n",
       "      <th>width</th>\n",
       "      <th>product_ref</th>\n",
       "      <th>selling_price</th>\n",
       "    </tr>\n",
       "  </thead>\n",
       "  <tbody>\n",
       "    <tr>\n",
       "      <th>count</th>\n",
       "      <td>1.816720e+05</td>\n",
       "      <td>1.816720e+05</td>\n",
       "      <td>181645.000000</td>\n",
       "      <td>181649.000000</td>\n",
       "      <td>181672.000000</td>\n",
       "      <td>181673.000000</td>\n",
       "      <td>1.816730e+05</td>\n",
       "      <td>1.816720e+05</td>\n",
       "    </tr>\n",
       "    <tr>\n",
       "      <th>mean</th>\n",
       "      <td>5.874926e+03</td>\n",
       "      <td>3.051221e+07</td>\n",
       "      <td>44.893022</td>\n",
       "      <td>25.615809</td>\n",
       "      <td>2.564827</td>\n",
       "      <td>1295.286724</td>\n",
       "      <td>4.739679e+08</td>\n",
       "      <td>1.918036e+03</td>\n",
       "    </tr>\n",
       "    <tr>\n",
       "      <th>std</th>\n",
       "      <td>2.349081e+06</td>\n",
       "      <td>2.433382e+07</td>\n",
       "      <td>24.404214</td>\n",
       "      <td>17.754175</td>\n",
       "      <td>6.572321</td>\n",
       "      <td>261.631754</td>\n",
       "      <td>7.175101e+08</td>\n",
       "      <td>3.317956e+05</td>\n",
       "    </tr>\n",
       "    <tr>\n",
       "      <th>min</th>\n",
       "      <td>-2.000000e+03</td>\n",
       "      <td>1.245800e+04</td>\n",
       "      <td>25.000000</td>\n",
       "      <td>2.000000</td>\n",
       "      <td>0.180000</td>\n",
       "      <td>1.000000</td>\n",
       "      <td>6.117280e+05</td>\n",
       "      <td>-1.160000e+03</td>\n",
       "    </tr>\n",
       "    <tr>\n",
       "      <th>25%</th>\n",
       "      <td>1.097030e+01</td>\n",
       "      <td>3.019688e+07</td>\n",
       "      <td>26.000000</td>\n",
       "      <td>10.000000</td>\n",
       "      <td>0.700000</td>\n",
       "      <td>1180.000000</td>\n",
       "      <td>6.119930e+05</td>\n",
       "      <td>6.690000e+02</td>\n",
       "    </tr>\n",
       "    <tr>\n",
       "      <th>50%</th>\n",
       "      <td>3.036464e+01</td>\n",
       "      <td>3.020524e+07</td>\n",
       "      <td>30.000000</td>\n",
       "      <td>15.000000</td>\n",
       "      <td>1.500000</td>\n",
       "      <td>1250.000000</td>\n",
       "      <td>6.406650e+05</td>\n",
       "      <td>8.120000e+02</td>\n",
       "    </tr>\n",
       "    <tr>\n",
       "      <th>75%</th>\n",
       "      <td>6.716061e+01</td>\n",
       "      <td>3.028042e+07</td>\n",
       "      <td>78.000000</td>\n",
       "      <td>41.000000</td>\n",
       "      <td>3.000000</td>\n",
       "      <td>1500.000000</td>\n",
       "      <td>1.332077e+09</td>\n",
       "      <td>9.530000e+02</td>\n",
       "    </tr>\n",
       "    <tr>\n",
       "      <th>max</th>\n",
       "      <td>1.000000e+09</td>\n",
       "      <td>2.147484e+09</td>\n",
       "      <td>113.000000</td>\n",
       "      <td>99.000000</td>\n",
       "      <td>2500.000000</td>\n",
       "      <td>2990.000000</td>\n",
       "      <td>1.722208e+09</td>\n",
       "      <td>1.000010e+08</td>\n",
       "    </tr>\n",
       "  </tbody>\n",
       "</table>\n",
       "</div>"
      ],
      "text/plain": [
       "       quantity tons      customer        country    application  \\\n",
       "count   1.816720e+05  1.816720e+05  181645.000000  181649.000000   \n",
       "mean    5.874926e+03  3.051221e+07      44.893022      25.615809   \n",
       "std     2.349081e+06  2.433382e+07      24.404214      17.754175   \n",
       "min    -2.000000e+03  1.245800e+04      25.000000       2.000000   \n",
       "25%     1.097030e+01  3.019688e+07      26.000000      10.000000   \n",
       "50%     3.036464e+01  3.020524e+07      30.000000      15.000000   \n",
       "75%     6.716061e+01  3.028042e+07      78.000000      41.000000   \n",
       "max     1.000000e+09  2.147484e+09     113.000000      99.000000   \n",
       "\n",
       "           thickness          width   product_ref  selling_price  \n",
       "count  181672.000000  181673.000000  1.816730e+05   1.816720e+05  \n",
       "mean        2.564827    1295.286724  4.739679e+08   1.918036e+03  \n",
       "std         6.572321     261.631754  7.175101e+08   3.317956e+05  \n",
       "min         0.180000       1.000000  6.117280e+05  -1.160000e+03  \n",
       "25%         0.700000    1180.000000  6.119930e+05   6.690000e+02  \n",
       "50%         1.500000    1250.000000  6.406650e+05   8.120000e+02  \n",
       "75%         3.000000    1500.000000  1.332077e+09   9.530000e+02  \n",
       "max      2500.000000    2990.000000  1.722208e+09   1.000010e+08  "
      ]
     },
     "execution_count": 8,
     "metadata": {},
     "output_type": "execute_result"
    }
   ],
   "source": [
    "df.describe()"
   ]
  },
  {
   "cell_type": "code",
   "execution_count": 9,
   "id": "90edc512",
   "metadata": {},
   "outputs": [
    {
     "data": {
      "text/plain": [
       "id                   2\n",
       "item_date            3\n",
       "quantity tons        1\n",
       "customer             1\n",
       "country             28\n",
       "status               2\n",
       "item type            0\n",
       "application         24\n",
       "thickness            1\n",
       "width                0\n",
       "material_ref     77919\n",
       "product_ref          0\n",
       "delivery date        3\n",
       "selling_price        1\n",
       "dtype: int64"
      ]
     },
     "execution_count": 9,
     "metadata": {},
     "output_type": "execute_result"
    }
   ],
   "source": [
    "df.isnull().sum()"
   ]
  },
  {
   "cell_type": "code",
   "execution_count": 10,
   "id": "bf4b2638",
   "metadata": {},
   "outputs": [],
   "source": [
    "# material_ref has large set of null values, so replacing them with unknown because if we remove, it spoils our data. \n",
    "df['material_ref'].fillna('unknown', inplace=True)"
   ]
  },
  {
   "cell_type": "code",
   "execution_count": 11,
   "id": "6c8f4463",
   "metadata": {},
   "outputs": [
    {
     "data": {
      "text/plain": [
       "id                2\n",
       "item_date         3\n",
       "quantity tons     1\n",
       "customer          1\n",
       "country          28\n",
       "status            2\n",
       "item type         0\n",
       "application      24\n",
       "thickness         1\n",
       "width             0\n",
       "material_ref      0\n",
       "product_ref       0\n",
       "delivery date     3\n",
       "selling_price     1\n",
       "dtype: int64"
      ]
     },
     "execution_count": 11,
     "metadata": {},
     "output_type": "execute_result"
    }
   ],
   "source": [
    "df.isnull().sum()"
   ]
  },
  {
   "cell_type": "code",
   "execution_count": 12,
   "id": "8dae7b66",
   "metadata": {},
   "outputs": [],
   "source": [
    "# deleting null values.\n",
    "df = df.dropna()"
   ]
  },
  {
   "cell_type": "code",
   "execution_count": 13,
   "id": "504f887f",
   "metadata": {},
   "outputs": [
    {
     "data": {
      "text/plain": [
       "<Axes: xlabel='thickness'>"
      ]
     },
     "execution_count": 13,
     "metadata": {},
     "output_type": "execute_result"
    },
    {
     "data": {
      "image/png": "[encoded data removed]",
      "text/plain": [
       "<Figure size 640x480 with 1 Axes>"
      ]
     },
     "metadata": {},
     "output_type": "display_data"
    }
   ],
   "source": [
    "sns.violinplot(x=df[\"thickness\"])"
   ]
  },
  {
   "cell_type": "code",
   "execution_count": 14,
   "id": "55e99bd6",
   "metadata": {},
   "outputs": [
    {
     "data": {
      "text/plain": [
       "<Axes: xlabel='quantity tons'>"
      ]
     },
     "execution_count": 14,
     "metadata": {},
     "output_type": "execute_result"
    },
    {
     "data": {
      "image/png": "[encoded data removed]",
      "text/plain": [
       "<Figure size 640x480 with 1 Axes>"
      ]
     },
     "metadata": {},
     "output_type": "display_data"
    }
   ],
   "source": [
    "sns.violinplot(x=df[\"quantity tons\"])"
   ]
  },
  {
   "cell_type": "code",
   "execution_count": 15,
   "id": "f618c5ad",
   "metadata": {},
   "outputs": [
    {
     "data": {
      "text/plain": [
       "<Axes: xlabel='selling_price', ylabel='Density'>"
      ]
     },
     "execution_count": 15,
     "metadata": {},
     "output_type": "execute_result"
    },
    {
     "data": {
      "image/png": "[encoded data removed]",
      "text/plain": [
       "<Figure size 640x480 with 1 Axes>"
      ]
     },
     "metadata": {},
     "output_type": "display_data"
    }
   ],
   "source": [
    "sns.distplot(df['selling_price'])"
   ]
  },
  {
   "cell_type": "code",
   "execution_count": 97,
   "id": "a8e7a523",
   "metadata": {},
   "outputs": [],
   "source": [
    "dfr=df.copy()"
   ]
  },
  {
   "cell_type": "code",
   "execution_count": 98,
   "id": "c03ccf8c",
   "metadata": {},
   "outputs": [
    {
     "name": "stdout",
     "output_type": "stream",
     "text": [
      "7\n",
      "4\n"
     ]
    }
   ],
   "source": [
    "a = dfr['selling_price'] <= 0\n",
    "print(a.sum())\n",
    "dfr.loc[a, 'selling_price'] = np.nan\n",
    "\n",
    "a = dfr['quantity tons'] <= 0\n",
    "print(a.sum())\n",
    "dfr.loc[a, 'quantity tons'] = np.nan\n"
   ]
  },
  {
   "cell_type": "code",
   "execution_count": 99,
   "id": "19cd84a9",
   "metadata": {},
   "outputs": [
    {
     "data": {
      "text/plain": [
       "id               0\n",
       "item_date        0\n",
       "quantity tons    4\n",
       "customer         0\n",
       "country          0\n",
       "status           0\n",
       "item type        0\n",
       "application      0\n",
       "thickness        0\n",
       "width            0\n",
       "material_ref     0\n",
       "product_ref      0\n",
       "delivery date    0\n",
       "selling_price    7\n",
       "dtype: int64"
      ]
     },
     "execution_count": 99,
     "metadata": {},
     "output_type": "execute_result"
    }
   ],
   "source": [
    "dfr.isnull().sum()"
   ]
  },
  {
   "cell_type": "markdown",
   "id": "04a49031",
   "metadata": {},
   "source": [
    "## Data Transformation"
   ]
  },
  {
   "cell_type": "code",
   "execution_count": 100,
   "id": "ea46c2a1",
   "metadata": {},
   "outputs": [
    {
     "data": {
      "image/png": "[encoded data removed]",
      "text/plain": [
       "<Figure size 640x480 with 1 Axes>"
      ]
     },
     "metadata": {},
     "output_type": "display_data"
    },
    {
     "data": {
      "image/png": "[encoded data removed]",
      "text/plain": [
       "<Figure size 640x480 with 1 Axes>"
      ]
     },
     "metadata": {},
     "output_type": "display_data"
    },
    {
     "data": {
      "image/png": "[encoded data removed]",
      "text/plain": [
       "<Figure size 640x480 with 1 Axes>"
      ]
     },
     "metadata": {},
     "output_type": "display_data"
    }
   ],
   "source": [
    "dfr['selling_price_log'] = np.log(dfr['selling_price'])\n",
    "sns.distplot(dfr['selling_price_log'])\n",
    "plt.show()\n",
    "\n",
    "dfr['quantity tons_log'] = np.log(dfr['quantity tons'])\n",
    "sns.distplot(dfr['quantity tons_log'])\n",
    "plt.show()\n",
    "\n",
    "dfr['thickness_log'] = np.log(dfr['thickness'])\n",
    "sns.distplot(dfr['thickness_log'])\n",
    "plt.show()\n",
    "\n"
   ]
  },
  {
   "cell_type": "code",
   "execution_count": 101,
   "id": "57fa76ca",
   "metadata": {},
   "outputs": [
    {
     "data": {
      "text/html": [
       "<div>\n",
       "<style scoped>\n",
       "    .dataframe tbody tr th:only-of-type {\n",
       "        vertical-align: middle;\n",
       "    }\n",
       "\n",
       "    .dataframe tbody tr th {\n",
       "        vertical-align: top;\n",
       "    }\n",
       "\n",
       "    .dataframe thead th {\n",
       "        text-align: right;\n",
       "    }\n",
       "</style>\n",
       "<table border=\"1\" class=\"dataframe\">\n",
       "  <thead>\n",
       "    <tr style=\"text-align: right;\">\n",
       "      <th></th>\n",
       "      <th>id</th>\n",
       "      <th>item_date</th>\n",
       "      <th>quantity tons</th>\n",
       "      <th>customer</th>\n",
       "      <th>country</th>\n",
       "      <th>status</th>\n",
       "      <th>item type</th>\n",
       "      <th>application</th>\n",
       "      <th>thickness</th>\n",
       "      <th>width</th>\n",
       "      <th>material_ref</th>\n",
       "      <th>product_ref</th>\n",
       "      <th>delivery date</th>\n",
       "      <th>selling_price</th>\n",
       "      <th>selling_price_log</th>\n",
       "      <th>quantity tons_log</th>\n",
       "      <th>thickness_log</th>\n",
       "    </tr>\n",
       "  </thead>\n",
       "  <tbody>\n",
       "    <tr>\n",
       "      <th>0</th>\n",
       "      <td>EC06F063-9DF0-440C-8764-0B0C05A4F6AE</td>\n",
       "      <td>2021-04-01</td>\n",
       "      <td>54.151139</td>\n",
       "      <td>30156308.0</td>\n",
       "      <td>28.0</td>\n",
       "      <td>Won</td>\n",
       "      <td>W</td>\n",
       "      <td>10.0</td>\n",
       "      <td>2.00</td>\n",
       "      <td>1500.0</td>\n",
       "      <td>DEQ1 S460MC</td>\n",
       "      <td>1670798778</td>\n",
       "      <td>2021-07-01</td>\n",
       "      <td>854.00</td>\n",
       "      <td>6.749931</td>\n",
       "      <td>3.991779</td>\n",
       "      <td>0.693147</td>\n",
       "    </tr>\n",
       "    <tr>\n",
       "      <th>1</th>\n",
       "      <td>4E5F4B3D-DDDF-499D-AFDE-A3227EC49425</td>\n",
       "      <td>2021-04-01</td>\n",
       "      <td>768.024839</td>\n",
       "      <td>30202938.0</td>\n",
       "      <td>25.0</td>\n",
       "      <td>Won</td>\n",
       "      <td>W</td>\n",
       "      <td>41.0</td>\n",
       "      <td>0.80</td>\n",
       "      <td>1210.0</td>\n",
       "      <td>104991</td>\n",
       "      <td>1668701718</td>\n",
       "      <td>2021-04-01</td>\n",
       "      <td>1047.00</td>\n",
       "      <td>6.953684</td>\n",
       "      <td>6.643822</td>\n",
       "      <td>-0.223144</td>\n",
       "    </tr>\n",
       "    <tr>\n",
       "      <th>2</th>\n",
       "      <td>E140FF1B-2407-4C02-A0DD-780A093B1158</td>\n",
       "      <td>2021-04-01</td>\n",
       "      <td>386.127949</td>\n",
       "      <td>30153963.0</td>\n",
       "      <td>30.0</td>\n",
       "      <td>Won</td>\n",
       "      <td>WI</td>\n",
       "      <td>28.0</td>\n",
       "      <td>0.38</td>\n",
       "      <td>952.0</td>\n",
       "      <td>S0380700</td>\n",
       "      <td>628377</td>\n",
       "      <td>2021-01-01</td>\n",
       "      <td>644.33</td>\n",
       "      <td>6.468211</td>\n",
       "      <td>5.956169</td>\n",
       "      <td>-0.967584</td>\n",
       "    </tr>\n",
       "    <tr>\n",
       "      <th>3</th>\n",
       "      <td>F8D507A0-9C62-4EFE-831E-33E1DA53BB50</td>\n",
       "      <td>2021-04-01</td>\n",
       "      <td>202.411065</td>\n",
       "      <td>30349574.0</td>\n",
       "      <td>32.0</td>\n",
       "      <td>Won</td>\n",
       "      <td>S</td>\n",
       "      <td>59.0</td>\n",
       "      <td>2.30</td>\n",
       "      <td>1317.0</td>\n",
       "      <td>DX51D+ZM310MAO 2.3X1317</td>\n",
       "      <td>1668701718</td>\n",
       "      <td>2021-01-01</td>\n",
       "      <td>768.00</td>\n",
       "      <td>6.643790</td>\n",
       "      <td>5.310301</td>\n",
       "      <td>0.832909</td>\n",
       "    </tr>\n",
       "    <tr>\n",
       "      <th>4</th>\n",
       "      <td>4E1C4E78-152B-430A-8094-ADD889C9D0AD</td>\n",
       "      <td>2021-04-01</td>\n",
       "      <td>785.526262</td>\n",
       "      <td>30211560.0</td>\n",
       "      <td>28.0</td>\n",
       "      <td>Won</td>\n",
       "      <td>W</td>\n",
       "      <td>10.0</td>\n",
       "      <td>4.00</td>\n",
       "      <td>2000.0</td>\n",
       "      <td>2_S275JR+AR-CL1</td>\n",
       "      <td>640665</td>\n",
       "      <td>2021-03-01</td>\n",
       "      <td>577.00</td>\n",
       "      <td>6.357842</td>\n",
       "      <td>6.666354</td>\n",
       "      <td>1.386294</td>\n",
       "    </tr>\n",
       "    <tr>\n",
       "      <th>...</th>\n",
       "      <td>...</td>\n",
       "      <td>...</td>\n",
       "      <td>...</td>\n",
       "      <td>...</td>\n",
       "      <td>...</td>\n",
       "      <td>...</td>\n",
       "      <td>...</td>\n",
       "      <td>...</td>\n",
       "      <td>...</td>\n",
       "      <td>...</td>\n",
       "      <td>...</td>\n",
       "      <td>...</td>\n",
       "      <td>...</td>\n",
       "      <td>...</td>\n",
       "      <td>...</td>\n",
       "      <td>...</td>\n",
       "      <td>...</td>\n",
       "    </tr>\n",
       "    <tr>\n",
       "      <th>181668</th>\n",
       "      <td>DE633116-D1DF-4846-982E-55EFC3658A76</td>\n",
       "      <td>2020-07-02</td>\n",
       "      <td>102.482422</td>\n",
       "      <td>30200854.0</td>\n",
       "      <td>25.0</td>\n",
       "      <td>Won</td>\n",
       "      <td>W</td>\n",
       "      <td>41.0</td>\n",
       "      <td>0.96</td>\n",
       "      <td>1220.0</td>\n",
       "      <td>1000777</td>\n",
       "      <td>164141591</td>\n",
       "      <td>2020-07-01</td>\n",
       "      <td>591.00</td>\n",
       "      <td>6.381816</td>\n",
       "      <td>4.629691</td>\n",
       "      <td>-0.040822</td>\n",
       "    </tr>\n",
       "    <tr>\n",
       "      <th>181669</th>\n",
       "      <td>A48374B1-E6DB-45F2-889A-1F9C27C099EB</td>\n",
       "      <td>2020-07-02</td>\n",
       "      <td>208.086469</td>\n",
       "      <td>30200854.0</td>\n",
       "      <td>25.0</td>\n",
       "      <td>Won</td>\n",
       "      <td>W</td>\n",
       "      <td>41.0</td>\n",
       "      <td>0.95</td>\n",
       "      <td>1500.0</td>\n",
       "      <td>1000227</td>\n",
       "      <td>164141591</td>\n",
       "      <td>2020-07-01</td>\n",
       "      <td>589.00</td>\n",
       "      <td>6.378426</td>\n",
       "      <td>5.337954</td>\n",
       "      <td>-0.051293</td>\n",
       "    </tr>\n",
       "    <tr>\n",
       "      <th>181670</th>\n",
       "      <td>91643238-5C7B-4237-9A5F-63AE3D35F320</td>\n",
       "      <td>2020-07-02</td>\n",
       "      <td>4.235594</td>\n",
       "      <td>30200854.0</td>\n",
       "      <td>25.0</td>\n",
       "      <td>Won</td>\n",
       "      <td>W</td>\n",
       "      <td>41.0</td>\n",
       "      <td>0.71</td>\n",
       "      <td>1250.0</td>\n",
       "      <td>1004216</td>\n",
       "      <td>164141591</td>\n",
       "      <td>2020-07-01</td>\n",
       "      <td>619.00</td>\n",
       "      <td>6.428105</td>\n",
       "      <td>1.443523</td>\n",
       "      <td>-0.342490</td>\n",
       "    </tr>\n",
       "    <tr>\n",
       "      <th>181671</th>\n",
       "      <td>7AFFD323-01D9-4E15-B80D-7D1B03498FC8</td>\n",
       "      <td>2020-07-02</td>\n",
       "      <td>NaN</td>\n",
       "      <td>30200854.0</td>\n",
       "      <td>25.0</td>\n",
       "      <td>Won</td>\n",
       "      <td>W</td>\n",
       "      <td>41.0</td>\n",
       "      <td>0.85</td>\n",
       "      <td>1250.0</td>\n",
       "      <td>1001149</td>\n",
       "      <td>164141591</td>\n",
       "      <td>2020-07-01</td>\n",
       "      <td>601.00</td>\n",
       "      <td>6.398595</td>\n",
       "      <td>NaN</td>\n",
       "      <td>-0.162519</td>\n",
       "    </tr>\n",
       "    <tr>\n",
       "      <th>181672</th>\n",
       "      <td>AD0CA853-AE3C-4B2F-9FBB-8B0B965F84BC</td>\n",
       "      <td>2020-07-02</td>\n",
       "      <td>406.686538</td>\n",
       "      <td>30200854.0</td>\n",
       "      <td>25.0</td>\n",
       "      <td>Won</td>\n",
       "      <td>W</td>\n",
       "      <td>41.0</td>\n",
       "      <td>0.71</td>\n",
       "      <td>1240.0</td>\n",
       "      <td>1005439</td>\n",
       "      <td>164141591</td>\n",
       "      <td>2020-07-01</td>\n",
       "      <td>607.00</td>\n",
       "      <td>6.408529</td>\n",
       "      <td>6.008043</td>\n",
       "      <td>-0.342490</td>\n",
       "    </tr>\n",
       "  </tbody>\n",
       "</table>\n",
       "<p>181631 rows × 17 columns</p>\n",
       "</div>"
      ],
      "text/plain": [
       "                                          id   item_date  quantity tons  \\\n",
       "0       EC06F063-9DF0-440C-8764-0B0C05A4F6AE  2021-04-01      54.151139   \n",
       "1       4E5F4B3D-DDDF-499D-AFDE-A3227EC49425  2021-04-01     768.024839   \n",
       "2       E140FF1B-2407-4C02-A0DD-780A093B1158  2021-04-01     386.127949   \n",
       "3       F8D507A0-9C62-4EFE-831E-33E1DA53BB50  2021-04-01     202.411065   \n",
       "4       4E1C4E78-152B-430A-8094-ADD889C9D0AD  2021-04-01     785.526262   \n",
       "...                                      ...         ...            ...   \n",
       "181668  DE633116-D1DF-4846-982E-55EFC3658A76  2020-07-02     102.482422   \n",
       "181669  A48374B1-E6DB-45F2-889A-1F9C27C099EB  2020-07-02     208.086469   \n",
       "181670  91643238-5C7B-4237-9A5F-63AE3D35F320  2020-07-02       4.235594   \n",
       "181671  7AFFD323-01D9-4E15-B80D-7D1B03498FC8  2020-07-02            NaN   \n",
       "181672  AD0CA853-AE3C-4B2F-9FBB-8B0B965F84BC  2020-07-02     406.686538   \n",
       "\n",
       "          customer  country status item type  application  thickness   width  \\\n",
       "0       30156308.0     28.0    Won         W         10.0       2.00  1500.0   \n",
       "1       30202938.0     25.0    Won         W         41.0       0.80  1210.0   \n",
       "2       30153963.0     30.0    Won        WI         28.0       0.38   952.0   \n",
       "3       30349574.0     32.0    Won         S         59.0       2.30  1317.0   \n",
       "4       30211560.0     28.0    Won         W         10.0       4.00  2000.0   \n",
       "...            ...      ...    ...       ...          ...        ...     ...   \n",
       "181668  30200854.0     25.0    Won         W         41.0       0.96  1220.0   \n",
       "181669  30200854.0     25.0    Won         W         41.0       0.95  1500.0   \n",
       "181670  30200854.0     25.0    Won         W         41.0       0.71  1250.0   \n",
       "181671  30200854.0     25.0    Won         W         41.0       0.85  1250.0   \n",
       "181672  30200854.0     25.0    Won         W         41.0       0.71  1240.0   \n",
       "\n",
       "                   material_ref  product_ref delivery date  selling_price  \\\n",
       "0                   DEQ1 S460MC   1670798778    2021-07-01         854.00   \n",
       "1                        104991   1668701718    2021-04-01        1047.00   \n",
       "2                      S0380700       628377    2021-01-01         644.33   \n",
       "3       DX51D+ZM310MAO 2.3X1317   1668701718    2021-01-01         768.00   \n",
       "4               2_S275JR+AR-CL1       640665    2021-03-01         577.00   \n",
       "...                         ...          ...           ...            ...   \n",
       "181668                  1000777    164141591    2020-07-01         591.00   \n",
       "181669                  1000227    164141591    2020-07-01         589.00   \n",
       "181670                  1004216    164141591    2020-07-01         619.00   \n",
       "181671                  1001149    164141591    2020-07-01         601.00   \n",
       "181672                  1005439    164141591    2020-07-01         607.00   \n",
       "\n",
       "        selling_price_log  quantity tons_log  thickness_log  \n",
       "0                6.749931           3.991779       0.693147  \n",
       "1                6.953684           6.643822      -0.223144  \n",
       "2                6.468211           5.956169      -0.967584  \n",
       "3                6.643790           5.310301       0.832909  \n",
       "4                6.357842           6.666354       1.386294  \n",
       "...                   ...                ...            ...  \n",
       "181668           6.381816           4.629691      -0.040822  \n",
       "181669           6.378426           5.337954      -0.051293  \n",
       "181670           6.428105           1.443523      -0.342490  \n",
       "181671           6.398595                NaN      -0.162519  \n",
       "181672           6.408529           6.008043      -0.342490  \n",
       "\n",
       "[181631 rows x 17 columns]"
      ]
     },
     "execution_count": 101,
     "metadata": {},
     "output_type": "execute_result"
    }
   ],
   "source": [
    "dfr"
   ]
  },
  {
   "cell_type": "code",
   "execution_count": 102,
   "id": "68bcb4f3",
   "metadata": {},
   "outputs": [],
   "source": [
    "#use Label encoder to convert categorical data into numerical data.\n",
    "from sklearn.preprocessing import LabelEncoder\n",
    "le = LabelEncoder()\n",
    "dfr.status = le.fit_transform(dfr[['status']])\n",
    "dfr['item type'] = le.fit_transform(dfr[['item type']])"
   ]
  },
  {
   "cell_type": "code",
   "execution_count": 22,
   "id": "0668b681",
   "metadata": {},
   "outputs": [
    {
     "data": {
      "text/html": [
       "<div>\n",
       "<style scoped>\n",
       "    .dataframe tbody tr th:only-of-type {\n",
       "        vertical-align: middle;\n",
       "    }\n",
       "\n",
       "    .dataframe tbody tr th {\n",
       "        vertical-align: top;\n",
       "    }\n",
       "\n",
       "    .dataframe thead th {\n",
       "        text-align: right;\n",
       "    }\n",
       "</style>\n",
       "<table border=\"1\" class=\"dataframe\">\n",
       "  <thead>\n",
       "    <tr style=\"text-align: right;\">\n",
       "      <th></th>\n",
       "      <th>id</th>\n",
       "      <th>item_date</th>\n",
       "      <th>quantity tons</th>\n",
       "      <th>customer</th>\n",
       "      <th>country</th>\n",
       "      <th>status</th>\n",
       "      <th>item type</th>\n",
       "      <th>application</th>\n",
       "      <th>thickness</th>\n",
       "      <th>width</th>\n",
       "      <th>material_ref</th>\n",
       "      <th>product_ref</th>\n",
       "      <th>delivery date</th>\n",
       "      <th>selling_price</th>\n",
       "      <th>selling_price_log</th>\n",
       "      <th>quantity tons_log</th>\n",
       "      <th>thickness_log</th>\n",
       "    </tr>\n",
       "  </thead>\n",
       "  <tbody>\n",
       "    <tr>\n",
       "      <th>0</th>\n",
       "      <td>EC06F063-9DF0-440C-8764-0B0C05A4F6AE</td>\n",
       "      <td>2021-04-01</td>\n",
       "      <td>54.151139</td>\n",
       "      <td>30156308.0</td>\n",
       "      <td>28.0</td>\n",
       "      <td>7</td>\n",
       "      <td>5</td>\n",
       "      <td>10.0</td>\n",
       "      <td>2.00</td>\n",
       "      <td>1500.0</td>\n",
       "      <td>DEQ1 S460MC</td>\n",
       "      <td>1670798778</td>\n",
       "      <td>2021-07-01</td>\n",
       "      <td>854.00</td>\n",
       "      <td>6.749931</td>\n",
       "      <td>3.991779</td>\n",
       "      <td>0.693147</td>\n",
       "    </tr>\n",
       "    <tr>\n",
       "      <th>1</th>\n",
       "      <td>4E5F4B3D-DDDF-499D-AFDE-A3227EC49425</td>\n",
       "      <td>2021-04-01</td>\n",
       "      <td>768.024839</td>\n",
       "      <td>30202938.0</td>\n",
       "      <td>25.0</td>\n",
       "      <td>7</td>\n",
       "      <td>5</td>\n",
       "      <td>41.0</td>\n",
       "      <td>0.80</td>\n",
       "      <td>1210.0</td>\n",
       "      <td>104991</td>\n",
       "      <td>1668701718</td>\n",
       "      <td>2021-04-01</td>\n",
       "      <td>1047.00</td>\n",
       "      <td>6.953684</td>\n",
       "      <td>6.643822</td>\n",
       "      <td>-0.223144</td>\n",
       "    </tr>\n",
       "    <tr>\n",
       "      <th>2</th>\n",
       "      <td>E140FF1B-2407-4C02-A0DD-780A093B1158</td>\n",
       "      <td>2021-04-01</td>\n",
       "      <td>386.127949</td>\n",
       "      <td>30153963.0</td>\n",
       "      <td>30.0</td>\n",
       "      <td>7</td>\n",
       "      <td>6</td>\n",
       "      <td>28.0</td>\n",
       "      <td>0.38</td>\n",
       "      <td>952.0</td>\n",
       "      <td>S0380700</td>\n",
       "      <td>628377</td>\n",
       "      <td>2021-01-01</td>\n",
       "      <td>644.33</td>\n",
       "      <td>6.468211</td>\n",
       "      <td>5.956169</td>\n",
       "      <td>-0.967584</td>\n",
       "    </tr>\n",
       "    <tr>\n",
       "      <th>3</th>\n",
       "      <td>F8D507A0-9C62-4EFE-831E-33E1DA53BB50</td>\n",
       "      <td>2021-04-01</td>\n",
       "      <td>202.411065</td>\n",
       "      <td>30349574.0</td>\n",
       "      <td>32.0</td>\n",
       "      <td>7</td>\n",
       "      <td>3</td>\n",
       "      <td>59.0</td>\n",
       "      <td>2.30</td>\n",
       "      <td>1317.0</td>\n",
       "      <td>DX51D+ZM310MAO 2.3X1317</td>\n",
       "      <td>1668701718</td>\n",
       "      <td>2021-01-01</td>\n",
       "      <td>768.00</td>\n",
       "      <td>6.643790</td>\n",
       "      <td>5.310301</td>\n",
       "      <td>0.832909</td>\n",
       "    </tr>\n",
       "    <tr>\n",
       "      <th>4</th>\n",
       "      <td>4E1C4E78-152B-430A-8094-ADD889C9D0AD</td>\n",
       "      <td>2021-04-01</td>\n",
       "      <td>785.526262</td>\n",
       "      <td>30211560.0</td>\n",
       "      <td>28.0</td>\n",
       "      <td>7</td>\n",
       "      <td>5</td>\n",
       "      <td>10.0</td>\n",
       "      <td>4.00</td>\n",
       "      <td>2000.0</td>\n",
       "      <td>2_S275JR+AR-CL1</td>\n",
       "      <td>640665</td>\n",
       "      <td>2021-03-01</td>\n",
       "      <td>577.00</td>\n",
       "      <td>6.357842</td>\n",
       "      <td>6.666354</td>\n",
       "      <td>1.386294</td>\n",
       "    </tr>\n",
       "    <tr>\n",
       "      <th>...</th>\n",
       "      <td>...</td>\n",
       "      <td>...</td>\n",
       "      <td>...</td>\n",
       "      <td>...</td>\n",
       "      <td>...</td>\n",
       "      <td>...</td>\n",
       "      <td>...</td>\n",
       "      <td>...</td>\n",
       "      <td>...</td>\n",
       "      <td>...</td>\n",
       "      <td>...</td>\n",
       "      <td>...</td>\n",
       "      <td>...</td>\n",
       "      <td>...</td>\n",
       "      <td>...</td>\n",
       "      <td>...</td>\n",
       "      <td>...</td>\n",
       "    </tr>\n",
       "    <tr>\n",
       "      <th>181668</th>\n",
       "      <td>DE633116-D1DF-4846-982E-55EFC3658A76</td>\n",
       "      <td>2020-07-02</td>\n",
       "      <td>102.482422</td>\n",
       "      <td>30200854.0</td>\n",
       "      <td>25.0</td>\n",
       "      <td>7</td>\n",
       "      <td>5</td>\n",
       "      <td>41.0</td>\n",
       "      <td>0.96</td>\n",
       "      <td>1220.0</td>\n",
       "      <td>1000777</td>\n",
       "      <td>164141591</td>\n",
       "      <td>2020-07-01</td>\n",
       "      <td>591.00</td>\n",
       "      <td>6.381816</td>\n",
       "      <td>4.629691</td>\n",
       "      <td>-0.040822</td>\n",
       "    </tr>\n",
       "    <tr>\n",
       "      <th>181669</th>\n",
       "      <td>A48374B1-E6DB-45F2-889A-1F9C27C099EB</td>\n",
       "      <td>2020-07-02</td>\n",
       "      <td>208.086469</td>\n",
       "      <td>30200854.0</td>\n",
       "      <td>25.0</td>\n",
       "      <td>7</td>\n",
       "      <td>5</td>\n",
       "      <td>41.0</td>\n",
       "      <td>0.95</td>\n",
       "      <td>1500.0</td>\n",
       "      <td>1000227</td>\n",
       "      <td>164141591</td>\n",
       "      <td>2020-07-01</td>\n",
       "      <td>589.00</td>\n",
       "      <td>6.378426</td>\n",
       "      <td>5.337954</td>\n",
       "      <td>-0.051293</td>\n",
       "    </tr>\n",
       "    <tr>\n",
       "      <th>181670</th>\n",
       "      <td>91643238-5C7B-4237-9A5F-63AE3D35F320</td>\n",
       "      <td>2020-07-02</td>\n",
       "      <td>4.235594</td>\n",
       "      <td>30200854.0</td>\n",
       "      <td>25.0</td>\n",
       "      <td>7</td>\n",
       "      <td>5</td>\n",
       "      <td>41.0</td>\n",
       "      <td>0.71</td>\n",
       "      <td>1250.0</td>\n",
       "      <td>1004216</td>\n",
       "      <td>164141591</td>\n",
       "      <td>2020-07-01</td>\n",
       "      <td>619.00</td>\n",
       "      <td>6.428105</td>\n",
       "      <td>1.443523</td>\n",
       "      <td>-0.342490</td>\n",
       "    </tr>\n",
       "    <tr>\n",
       "      <th>181671</th>\n",
       "      <td>7AFFD323-01D9-4E15-B80D-7D1B03498FC8</td>\n",
       "      <td>2020-07-02</td>\n",
       "      <td>NaN</td>\n",
       "      <td>30200854.0</td>\n",
       "      <td>25.0</td>\n",
       "      <td>7</td>\n",
       "      <td>5</td>\n",
       "      <td>41.0</td>\n",
       "      <td>0.85</td>\n",
       "      <td>1250.0</td>\n",
       "      <td>1001149</td>\n",
       "      <td>164141591</td>\n",
       "      <td>2020-07-01</td>\n",
       "      <td>601.00</td>\n",
       "      <td>6.398595</td>\n",
       "      <td>NaN</td>\n",
       "      <td>-0.162519</td>\n",
       "    </tr>\n",
       "    <tr>\n",
       "      <th>181672</th>\n",
       "      <td>AD0CA853-AE3C-4B2F-9FBB-8B0B965F84BC</td>\n",
       "      <td>2020-07-02</td>\n",
       "      <td>406.686538</td>\n",
       "      <td>30200854.0</td>\n",
       "      <td>25.0</td>\n",
       "      <td>7</td>\n",
       "      <td>5</td>\n",
       "      <td>41.0</td>\n",
       "      <td>0.71</td>\n",
       "      <td>1240.0</td>\n",
       "      <td>1005439</td>\n",
       "      <td>164141591</td>\n",
       "      <td>2020-07-01</td>\n",
       "      <td>607.00</td>\n",
       "      <td>6.408529</td>\n",
       "      <td>6.008043</td>\n",
       "      <td>-0.342490</td>\n",
       "    </tr>\n",
       "  </tbody>\n",
       "</table>\n",
       "<p>181631 rows × 17 columns</p>\n",
       "</div>"
      ],
      "text/plain": [
       "                                          id   item_date  quantity tons  \\\n",
       "0       EC06F063-9DF0-440C-8764-0B0C05A4F6AE  2021-04-01      54.151139   \n",
       "1       4E5F4B3D-DDDF-499D-AFDE-A3227EC49425  2021-04-01     768.024839   \n",
       "2       E140FF1B-2407-4C02-A0DD-780A093B1158  2021-04-01     386.127949   \n",
       "3       F8D507A0-9C62-4EFE-831E-33E1DA53BB50  2021-04-01     202.411065   \n",
       "4       4E1C4E78-152B-430A-8094-ADD889C9D0AD  2021-04-01     785.526262   \n",
       "...                                      ...         ...            ...   \n",
       "181668  DE633116-D1DF-4846-982E-55EFC3658A76  2020-07-02     102.482422   \n",
       "181669  A48374B1-E6DB-45F2-889A-1F9C27C099EB  2020-07-02     208.086469   \n",
       "181670  91643238-5C7B-4237-9A5F-63AE3D35F320  2020-07-02       4.235594   \n",
       "181671  7AFFD323-01D9-4E15-B80D-7D1B03498FC8  2020-07-02            NaN   \n",
       "181672  AD0CA853-AE3C-4B2F-9FBB-8B0B965F84BC  2020-07-02     406.686538   \n",
       "\n",
       "          customer  country  status  item type  application  thickness  \\\n",
       "0       30156308.0     28.0       7          5         10.0       2.00   \n",
       "1       30202938.0     25.0       7          5         41.0       0.80   \n",
       "2       30153963.0     30.0       7          6         28.0       0.38   \n",
       "3       30349574.0     32.0       7          3         59.0       2.30   \n",
       "4       30211560.0     28.0       7          5         10.0       4.00   \n",
       "...            ...      ...     ...        ...          ...        ...   \n",
       "181668  30200854.0     25.0       7          5         41.0       0.96   \n",
       "181669  30200854.0     25.0       7          5         41.0       0.95   \n",
       "181670  30200854.0     25.0       7          5         41.0       0.71   \n",
       "181671  30200854.0     25.0       7          5         41.0       0.85   \n",
       "181672  30200854.0     25.0       7          5         41.0       0.71   \n",
       "\n",
       "         width             material_ref  product_ref delivery date  \\\n",
       "0       1500.0              DEQ1 S460MC   1670798778    2021-07-01   \n",
       "1       1210.0                   104991   1668701718    2021-04-01   \n",
       "2        952.0                 S0380700       628377    2021-01-01   \n",
       "3       1317.0  DX51D+ZM310MAO 2.3X1317   1668701718    2021-01-01   \n",
       "4       2000.0          2_S275JR+AR-CL1       640665    2021-03-01   \n",
       "...        ...                      ...          ...           ...   \n",
       "181668  1220.0                  1000777    164141591    2020-07-01   \n",
       "181669  1500.0                  1000227    164141591    2020-07-01   \n",
       "181670  1250.0                  1004216    164141591    2020-07-01   \n",
       "181671  1250.0                  1001149    164141591    2020-07-01   \n",
       "181672  1240.0                  1005439    164141591    2020-07-01   \n",
       "\n",
       "        selling_price  selling_price_log  quantity tons_log  thickness_log  \n",
       "0              854.00           6.749931           3.991779       0.693147  \n",
       "1             1047.00           6.953684           6.643822      -0.223144  \n",
       "2              644.33           6.468211           5.956169      -0.967584  \n",
       "3              768.00           6.643790           5.310301       0.832909  \n",
       "4              577.00           6.357842           6.666354       1.386294  \n",
       "...               ...                ...                ...            ...  \n",
       "181668         591.00           6.381816           4.629691      -0.040822  \n",
       "181669         589.00           6.378426           5.337954      -0.051293  \n",
       "181670         619.00           6.428105           1.443523      -0.342490  \n",
       "181671         601.00           6.398595                NaN      -0.162519  \n",
       "181672         607.00           6.408529           6.008043      -0.342490  \n",
       "\n",
       "[181631 rows x 17 columns]"
      ]
     },
     "execution_count": 22,
     "metadata": {},
     "output_type": "execute_result"
    }
   ],
   "source": [
    "dfr"
   ]
  },
  {
   "cell_type": "markdown",
   "id": "24e3e3bc",
   "metadata": {},
   "source": [
    "## Outliers"
   ]
  },
  {
   "cell_type": "code",
   "execution_count": 104,
   "id": "e3b804c3",
   "metadata": {},
   "outputs": [
    {
     "data": {
      "image/png": "[encoded data removed]",
      "text/plain": [
       "<Figure size 640x480 with 1 Axes>"
      ]
     },
     "metadata": {},
     "output_type": "display_data"
    },
    {
     "data": {
      "image/png": "[encoded data removed]",
      "text/plain": [
       "<Figure size 640x480 with 1 Axes>"
      ]
     },
     "metadata": {},
     "output_type": "display_data"
    }
   ],
   "source": [
    "sns.boxplot(data=dfr, x=\"thickness_log\")\n",
    "plt.show()\n",
    "\n",
    "\n",
    "sns.boxplot(data=dfr, x=\"quantity tons_log\")\n",
    "plt.show()"
   ]
  },
  {
   "cell_type": "code",
   "execution_count": 105,
   "id": "40443ca3",
   "metadata": {},
   "outputs": [
    {
     "name": "stdout",
     "output_type": "stream",
     "text": [
      "-2.5396057928489957\n",
      "3.281543137578373\n"
     ]
    }
   ],
   "source": [
    "# IQR\n",
    "# Calculate the upper and lower limits\n",
    "Q1_tl = dfr['thickness_log'].quantile(0.25)\n",
    "Q3_tl = dfr['thickness_log'].quantile(0.75)\n",
    "IQR = Q3_tl - Q1_tl\n",
    "lower_tl = Q1_tl - 1.5*IQR\n",
    "upper_tl = Q3_tl + 1.5*IQR\n",
    " \n",
    "    \n",
    "print(lower_tl)\n",
    "print(upper_tl)\n",
    "\n",
    "# Create arrays of Boolean values indicating the outlier rows\n",
    "upper_array_tl = np.where(dfr['thickness_log']>=upper_tl)[0]\n",
    "lower_array_tl = np.where(dfr['thickness_log']<=lower_tl)[0]\n"
   ]
  },
  {
   "cell_type": "code",
   "execution_count": 25,
   "id": "6021cf3a",
   "metadata": {},
   "outputs": [
    {
     "name": "stdout",
     "output_type": "stream",
     "text": [
      "0\n",
      "45038\n",
      "[   40 44998]\n",
      "(181631, 17)\n"
     ]
    }
   ],
   "source": [
    "print(lower_array_tl.sum())\n",
    "print(upper_array_tl.sum())\n",
    "print(upper_array_tl)\n",
    "print(dfr.shape)"
   ]
  },
  {
   "cell_type": "code",
   "execution_count": 106,
   "id": "247def22",
   "metadata": {},
   "outputs": [
    {
     "name": "stdout",
     "output_type": "stream",
     "text": [
      "New Shape:  (181629, 17)\n"
     ]
    },
    {
     "data": {
      "image/png": "[encoded data removed]",
      "text/plain": [
       "<Figure size 640x480 with 1 Axes>"
      ]
     },
     "metadata": {},
     "output_type": "display_data"
    }
   ],
   "source": [
    "# Removing the outliers\n",
    "dfr_dropped_outliers = dfr.drop(index=upper_array_tl, inplace=False)\n",
    " \n",
    "# Print the new shape of the DataFrame\n",
    "print(\"New Shape: \", dfr_dropped_outliers.shape)\n",
    "\n",
    "sns.boxplot(data=dfr_dropped_outliers, x=\"thickness_log\")\n",
    "plt.show()"
   ]
  },
  {
   "cell_type": "code",
   "execution_count": 107,
   "id": "64417ad4",
   "metadata": {},
   "outputs": [
    {
     "name": "stdout",
     "output_type": "stream",
     "text": [
      "-0.32308264038211343\n",
      "6.925327327725585\n"
     ]
    }
   ],
   "source": [
    "# IQR\n",
    "# Calculate the upper and lower limits\n",
    "Q1 = dfr_dropped_outliers['quantity tons_log'].quantile(0.25)\n",
    "Q3 = dfr_dropped_outliers['quantity tons_log'].quantile(0.75)\n",
    "IQR = Q3 - Q1\n",
    "lower = Q1 - 1.5*IQR\n",
    "upper = Q3 + 1.5*IQR\n",
    " \n",
    "    \n",
    "print(lower)\n",
    "print(upper)\n",
    "\n",
    "# Create arrays of Boolean values indicating the outlier rows\n",
    "upper_array = np.where(dfr_dropped_outliers['quantity tons_log']>=upper)[0]\n",
    "\n",
    "\n"
   ]
  },
  {
   "cell_type": "code",
   "execution_count": 108,
   "id": "7662c670",
   "metadata": {},
   "outputs": [
    {
     "name": "stdout",
     "output_type": "stream",
     "text": [
      "1983\n",
      "[   187    261    589 ... 180844 180906 181619]\n",
      "(181629, 17)\n"
     ]
    }
   ],
   "source": [
    "#print(len(lower_array))\n",
    "print(len(upper_array))\n",
    "print(upper_array)\n",
    "print(dfr_dropped_outliers.shape)"
   ]
  },
  {
   "cell_type": "code",
   "execution_count": 109,
   "id": "b6baa350",
   "metadata": {},
   "outputs": [
    {
     "name": "stdout",
     "output_type": "stream",
     "text": [
      "New Shape:  (179646, 17)\n"
     ]
    },
    {
     "data": {
      "image/png": "[encoded data removed]",
      "text/plain": [
       "<Figure size 640x480 with 1 Axes>"
      ]
     },
     "metadata": {},
     "output_type": "display_data"
    }
   ],
   "source": [
    "dfr_dropped_outliers_1 = dfr_dropped_outliers.drop(index=upper_array, inplace=False)\n",
    "#dfr.drop(index=lower_array, inplace=True)\n",
    " \n",
    "# Print the new shape of the DataFrame\n",
    "print(\"New Shape: \", dfr_dropped_outliers_1.shape)\n",
    "\n",
    "sns.boxplot(data=dfr_dropped_outliers_1, x=\"quantity tons_log\")\n",
    "plt.show()"
   ]
  },
  {
   "cell_type": "code",
   "execution_count": 110,
   "id": "f1fff2b2",
   "metadata": {},
   "outputs": [
    {
     "data": {
      "text/plain": [
       "(181629, 17)"
      ]
     },
     "execution_count": 110,
     "metadata": {},
     "output_type": "execute_result"
    }
   ],
   "source": [
    "dfr_dropped_outliers_1.shape\n",
    "dfr_dropped_outliers.shape"
   ]
  },
  {
   "cell_type": "code",
   "execution_count": 111,
   "id": "5d219fb3",
   "metadata": {},
   "outputs": [
    {
     "data": {
      "image/png": "[encoded data removed]",
      "text/plain": [
       "<Figure size 640x480 with 1 Axes>"
      ]
     },
     "metadata": {},
     "output_type": "display_data"
    },
    {
     "data": {
      "image/png": "[encoded data removed]",
      "text/plain": [
       "<Figure size 640x480 with 1 Axes>"
      ]
     },
     "metadata": {},
     "output_type": "display_data"
    }
   ],
   "source": [
    "sns.scatterplot(data=dfr_dropped_outliers_1, x=\"thickness_log\", y=\"selling_price_log\")\n",
    "plt.show()\n",
    "\n",
    "\n",
    "sns.scatterplot(data=dfr_dropped_outliers_1, x=\"quantity tons_log\", y=\"selling_price_log\")\n",
    "plt.show()"
   ]
  },
  {
   "cell_type": "code",
   "execution_count": null,
   "id": "86d0a337",
   "metadata": {},
   "outputs": [],
   "source": [
    "dfr_dropped_outliers_1.shape"
   ]
  },
  {
   "cell_type": "code",
   "execution_count": 112,
   "id": "300c9d92",
   "metadata": {},
   "outputs": [
    {
     "data": {
      "text/plain": [
       "id                   0\n",
       "item_date            0\n",
       "quantity tons        0\n",
       "customer             0\n",
       "country              0\n",
       "status               0\n",
       "item type            0\n",
       "application          0\n",
       "thickness            0\n",
       "width                0\n",
       "material_ref         0\n",
       "product_ref          0\n",
       "delivery date        0\n",
       "selling_price        0\n",
       "selling_price_log    0\n",
       "quantity tons_log    0\n",
       "thickness_log        0\n",
       "dtype: int64"
      ]
     },
     "execution_count": 112,
     "metadata": {},
     "output_type": "execute_result"
    }
   ],
   "source": [
    "dfr_dropped_outliers_2.isnull().sum()"
   ]
  },
  {
   "cell_type": "code",
   "execution_count": 113,
   "id": "f5a1b4d5",
   "metadata": {},
   "outputs": [],
   "source": [
    "dfr_dropped_outliers_2 = dfr_dropped_outliers_1.dropna()"
   ]
  },
  {
   "cell_type": "markdown",
   "id": "ff2b754b",
   "metadata": {},
   "source": [
    "# Regression\n"
   ]
  },
  {
   "cell_type": "code",
   "execution_count": 114,
   "id": "72dac373",
   "metadata": {},
   "outputs": [],
   "source": [
    "df_data = dfr_dropped_outliers_2.copy()"
   ]
  },
  {
   "cell_type": "code",
   "execution_count": 115,
   "id": "9d28ab7d",
   "metadata": {},
   "outputs": [],
   "source": [
    "#split data into X, y\n",
    "X=df_data[['quantity tons_log','status','item type','application','thickness_log','width','country','customer','product_ref']]\n",
    "y=df_data['selling_price_log']"
   ]
  },
  {
   "cell_type": "code",
   "execution_count": 116,
   "id": "abaec8af",
   "metadata": {},
   "outputs": [
    {
     "data": {
      "text/html": [
       "<div>\n",
       "<style scoped>\n",
       "    .dataframe tbody tr th:only-of-type {\n",
       "        vertical-align: middle;\n",
       "    }\n",
       "\n",
       "    .dataframe tbody tr th {\n",
       "        vertical-align: top;\n",
       "    }\n",
       "\n",
       "    .dataframe thead th {\n",
       "        text-align: right;\n",
       "    }\n",
       "</style>\n",
       "<table border=\"1\" class=\"dataframe\">\n",
       "  <thead>\n",
       "    <tr style=\"text-align: right;\">\n",
       "      <th></th>\n",
       "      <th>quantity tons_log</th>\n",
       "      <th>status</th>\n",
       "      <th>item type</th>\n",
       "      <th>application</th>\n",
       "      <th>thickness_log</th>\n",
       "      <th>width</th>\n",
       "      <th>country</th>\n",
       "      <th>customer</th>\n",
       "      <th>product_ref</th>\n",
       "    </tr>\n",
       "  </thead>\n",
       "  <tbody>\n",
       "    <tr>\n",
       "      <th>0</th>\n",
       "      <td>3.991779</td>\n",
       "      <td>7</td>\n",
       "      <td>5</td>\n",
       "      <td>10.0</td>\n",
       "      <td>0.693147</td>\n",
       "      <td>1500.0</td>\n",
       "      <td>28.0</td>\n",
       "      <td>30156308.0</td>\n",
       "      <td>1670798778</td>\n",
       "    </tr>\n",
       "    <tr>\n",
       "      <th>1</th>\n",
       "      <td>6.643822</td>\n",
       "      <td>7</td>\n",
       "      <td>5</td>\n",
       "      <td>41.0</td>\n",
       "      <td>-0.223144</td>\n",
       "      <td>1210.0</td>\n",
       "      <td>25.0</td>\n",
       "      <td>30202938.0</td>\n",
       "      <td>1668701718</td>\n",
       "    </tr>\n",
       "    <tr>\n",
       "      <th>2</th>\n",
       "      <td>5.956169</td>\n",
       "      <td>7</td>\n",
       "      <td>6</td>\n",
       "      <td>28.0</td>\n",
       "      <td>-0.967584</td>\n",
       "      <td>952.0</td>\n",
       "      <td>30.0</td>\n",
       "      <td>30153963.0</td>\n",
       "      <td>628377</td>\n",
       "    </tr>\n",
       "    <tr>\n",
       "      <th>3</th>\n",
       "      <td>5.310301</td>\n",
       "      <td>7</td>\n",
       "      <td>3</td>\n",
       "      <td>59.0</td>\n",
       "      <td>0.832909</td>\n",
       "      <td>1317.0</td>\n",
       "      <td>32.0</td>\n",
       "      <td>30349574.0</td>\n",
       "      <td>1668701718</td>\n",
       "    </tr>\n",
       "    <tr>\n",
       "      <th>4</th>\n",
       "      <td>6.666354</td>\n",
       "      <td>7</td>\n",
       "      <td>5</td>\n",
       "      <td>10.0</td>\n",
       "      <td>1.386294</td>\n",
       "      <td>2000.0</td>\n",
       "      <td>28.0</td>\n",
       "      <td>30211560.0</td>\n",
       "      <td>640665</td>\n",
       "    </tr>\n",
       "    <tr>\n",
       "      <th>...</th>\n",
       "      <td>...</td>\n",
       "      <td>...</td>\n",
       "      <td>...</td>\n",
       "      <td>...</td>\n",
       "      <td>...</td>\n",
       "      <td>...</td>\n",
       "      <td>...</td>\n",
       "      <td>...</td>\n",
       "      <td>...</td>\n",
       "    </tr>\n",
       "    <tr>\n",
       "      <th>181667</th>\n",
       "      <td>4.670802</td>\n",
       "      <td>7</td>\n",
       "      <td>5</td>\n",
       "      <td>41.0</td>\n",
       "      <td>-0.040822</td>\n",
       "      <td>1240.0</td>\n",
       "      <td>25.0</td>\n",
       "      <td>30200854.0</td>\n",
       "      <td>164141591</td>\n",
       "    </tr>\n",
       "    <tr>\n",
       "      <th>181668</th>\n",
       "      <td>4.629691</td>\n",
       "      <td>7</td>\n",
       "      <td>5</td>\n",
       "      <td>41.0</td>\n",
       "      <td>-0.040822</td>\n",
       "      <td>1220.0</td>\n",
       "      <td>25.0</td>\n",
       "      <td>30200854.0</td>\n",
       "      <td>164141591</td>\n",
       "    </tr>\n",
       "    <tr>\n",
       "      <th>181669</th>\n",
       "      <td>5.337954</td>\n",
       "      <td>7</td>\n",
       "      <td>5</td>\n",
       "      <td>41.0</td>\n",
       "      <td>-0.051293</td>\n",
       "      <td>1500.0</td>\n",
       "      <td>25.0</td>\n",
       "      <td>30200854.0</td>\n",
       "      <td>164141591</td>\n",
       "    </tr>\n",
       "    <tr>\n",
       "      <th>181670</th>\n",
       "      <td>1.443523</td>\n",
       "      <td>7</td>\n",
       "      <td>5</td>\n",
       "      <td>41.0</td>\n",
       "      <td>-0.342490</td>\n",
       "      <td>1250.0</td>\n",
       "      <td>25.0</td>\n",
       "      <td>30200854.0</td>\n",
       "      <td>164141591</td>\n",
       "    </tr>\n",
       "    <tr>\n",
       "      <th>181672</th>\n",
       "      <td>6.008043</td>\n",
       "      <td>7</td>\n",
       "      <td>5</td>\n",
       "      <td>41.0</td>\n",
       "      <td>-0.342490</td>\n",
       "      <td>1240.0</td>\n",
       "      <td>25.0</td>\n",
       "      <td>30200854.0</td>\n",
       "      <td>164141591</td>\n",
       "    </tr>\n",
       "  </tbody>\n",
       "</table>\n",
       "<p>179635 rows × 9 columns</p>\n",
       "</div>"
      ],
      "text/plain": [
       "        quantity tons_log  status  item type  application  thickness_log  \\\n",
       "0                3.991779       7          5         10.0       0.693147   \n",
       "1                6.643822       7          5         41.0      -0.223144   \n",
       "2                5.956169       7          6         28.0      -0.967584   \n",
       "3                5.310301       7          3         59.0       0.832909   \n",
       "4                6.666354       7          5         10.0       1.386294   \n",
       "...                   ...     ...        ...          ...            ...   \n",
       "181667           4.670802       7          5         41.0      -0.040822   \n",
       "181668           4.629691       7          5         41.0      -0.040822   \n",
       "181669           5.337954       7          5         41.0      -0.051293   \n",
       "181670           1.443523       7          5         41.0      -0.342490   \n",
       "181672           6.008043       7          5         41.0      -0.342490   \n",
       "\n",
       "         width  country    customer  product_ref  \n",
       "0       1500.0     28.0  30156308.0   1670798778  \n",
       "1       1210.0     25.0  30202938.0   1668701718  \n",
       "2        952.0     30.0  30153963.0       628377  \n",
       "3       1317.0     32.0  30349574.0   1668701718  \n",
       "4       2000.0     28.0  30211560.0       640665  \n",
       "...        ...      ...         ...          ...  \n",
       "181667  1240.0     25.0  30200854.0    164141591  \n",
       "181668  1220.0     25.0  30200854.0    164141591  \n",
       "181669  1500.0     25.0  30200854.0    164141591  \n",
       "181670  1250.0     25.0  30200854.0    164141591  \n",
       "181672  1240.0     25.0  30200854.0    164141591  \n",
       "\n",
       "[179635 rows x 9 columns]"
      ]
     },
     "execution_count": 116,
     "metadata": {},
     "output_type": "execute_result"
    }
   ],
   "source": [
    "X"
   ]
  },
  {
   "cell_type": "code",
   "execution_count": 117,
   "id": "e8cf9aab",
   "metadata": {},
   "outputs": [
    {
     "name": "stdout",
     "output_type": "stream",
     "text": [
      "(125744, 9)\n",
      "(53891, 9)\n",
      "(125744,)\n",
      "(53891,)\n"
     ]
    }
   ],
   "source": [
    "from sklearn.model_selection import train_test_split\n",
    "X_train, X_test, y_train, y_test = train_test_split(X, y, test_size = 0.3, random_state = 5)\n",
    "print(X_train.shape)\n",
    "print(X_test.shape)\n",
    "print(y_train.shape)\n",
    "print(y_test.shape)"
   ]
  },
  {
   "cell_type": "code",
   "execution_count": 118,
   "id": "935bbaee",
   "metadata": {},
   "outputs": [
    {
     "data": {
      "text/html": [
       "<div>\n",
       "<style scoped>\n",
       "    .dataframe tbody tr th:only-of-type {\n",
       "        vertical-align: middle;\n",
       "    }\n",
       "\n",
       "    .dataframe tbody tr th {\n",
       "        vertical-align: top;\n",
       "    }\n",
       "\n",
       "    .dataframe thead th {\n",
       "        text-align: right;\n",
       "    }\n",
       "</style>\n",
       "<table border=\"1\" class=\"dataframe\">\n",
       "  <thead>\n",
       "    <tr style=\"text-align: right;\">\n",
       "      <th></th>\n",
       "      <th>quantity tons_log</th>\n",
       "      <th>status</th>\n",
       "      <th>item type</th>\n",
       "      <th>application</th>\n",
       "      <th>thickness_log</th>\n",
       "      <th>width</th>\n",
       "      <th>country</th>\n",
       "      <th>customer</th>\n",
       "      <th>product_ref</th>\n",
       "    </tr>\n",
       "  </thead>\n",
       "  <tbody>\n",
       "    <tr>\n",
       "      <th>55954</th>\n",
       "      <td>4.031168</td>\n",
       "      <td>6</td>\n",
       "      <td>5</td>\n",
       "      <td>10.0</td>\n",
       "      <td>0.916291</td>\n",
       "      <td>950.0</td>\n",
       "      <td>39.0</td>\n",
       "      <td>30161656.0</td>\n",
       "      <td>1670798778</td>\n",
       "    </tr>\n",
       "    <tr>\n",
       "      <th>150689</th>\n",
       "      <td>3.943565</td>\n",
       "      <td>7</td>\n",
       "      <td>5</td>\n",
       "      <td>15.0</td>\n",
       "      <td>0.405465</td>\n",
       "      <td>1000.0</td>\n",
       "      <td>77.0</td>\n",
       "      <td>30161540.0</td>\n",
       "      <td>628377</td>\n",
       "    </tr>\n",
       "    <tr>\n",
       "      <th>135738</th>\n",
       "      <td>1.879602</td>\n",
       "      <td>7</td>\n",
       "      <td>5</td>\n",
       "      <td>41.0</td>\n",
       "      <td>-0.051293</td>\n",
       "      <td>1240.0</td>\n",
       "      <td>25.0</td>\n",
       "      <td>30218705.0</td>\n",
       "      <td>611993</td>\n",
       "    </tr>\n",
       "    <tr>\n",
       "      <th>34482</th>\n",
       "      <td>3.102376</td>\n",
       "      <td>7</td>\n",
       "      <td>3</td>\n",
       "      <td>10.0</td>\n",
       "      <td>0.000000</td>\n",
       "      <td>1342.0</td>\n",
       "      <td>27.0</td>\n",
       "      <td>30217607.0</td>\n",
       "      <td>1693867550</td>\n",
       "    </tr>\n",
       "    <tr>\n",
       "      <th>70239</th>\n",
       "      <td>2.041859</td>\n",
       "      <td>7</td>\n",
       "      <td>5</td>\n",
       "      <td>10.0</td>\n",
       "      <td>0.693147</td>\n",
       "      <td>1000.0</td>\n",
       "      <td>78.0</td>\n",
       "      <td>30336052.0</td>\n",
       "      <td>164141591</td>\n",
       "    </tr>\n",
       "    <tr>\n",
       "      <th>...</th>\n",
       "      <td>...</td>\n",
       "      <td>...</td>\n",
       "      <td>...</td>\n",
       "      <td>...</td>\n",
       "      <td>...</td>\n",
       "      <td>...</td>\n",
       "      <td>...</td>\n",
       "      <td>...</td>\n",
       "      <td>...</td>\n",
       "    </tr>\n",
       "    <tr>\n",
       "      <th>123421</th>\n",
       "      <td>1.319396</td>\n",
       "      <td>7</td>\n",
       "      <td>2</td>\n",
       "      <td>15.0</td>\n",
       "      <td>2.302585</td>\n",
       "      <td>1500.0</td>\n",
       "      <td>26.0</td>\n",
       "      <td>30227447.0</td>\n",
       "      <td>640405</td>\n",
       "    </tr>\n",
       "    <tr>\n",
       "      <th>126083</th>\n",
       "      <td>3.824581</td>\n",
       "      <td>7</td>\n",
       "      <td>5</td>\n",
       "      <td>41.0</td>\n",
       "      <td>1.386294</td>\n",
       "      <td>1240.0</td>\n",
       "      <td>25.0</td>\n",
       "      <td>30202938.0</td>\n",
       "      <td>164141591</td>\n",
       "    </tr>\n",
       "    <tr>\n",
       "      <th>20718</th>\n",
       "      <td>5.330803</td>\n",
       "      <td>7</td>\n",
       "      <td>5</td>\n",
       "      <td>59.0</td>\n",
       "      <td>0.405465</td>\n",
       "      <td>1230.0</td>\n",
       "      <td>26.0</td>\n",
       "      <td>30201046.0</td>\n",
       "      <td>1670798778</td>\n",
       "    </tr>\n",
       "    <tr>\n",
       "      <th>18867</th>\n",
       "      <td>3.134459</td>\n",
       "      <td>7</td>\n",
       "      <td>5</td>\n",
       "      <td>10.0</td>\n",
       "      <td>1.252763</td>\n",
       "      <td>1560.0</td>\n",
       "      <td>28.0</td>\n",
       "      <td>30156308.0</td>\n",
       "      <td>640665</td>\n",
       "    </tr>\n",
       "    <tr>\n",
       "      <th>36086</th>\n",
       "      <td>1.925436</td>\n",
       "      <td>7</td>\n",
       "      <td>5</td>\n",
       "      <td>41.0</td>\n",
       "      <td>0.000000</td>\n",
       "      <td>1100.0</td>\n",
       "      <td>28.0</td>\n",
       "      <td>30160001.0</td>\n",
       "      <td>611993</td>\n",
       "    </tr>\n",
       "  </tbody>\n",
       "</table>\n",
       "<p>125744 rows × 9 columns</p>\n",
       "</div>"
      ],
      "text/plain": [
       "        quantity tons_log  status  item type  application  thickness_log  \\\n",
       "55954            4.031168       6          5         10.0       0.916291   \n",
       "150689           3.943565       7          5         15.0       0.405465   \n",
       "135738           1.879602       7          5         41.0      -0.051293   \n",
       "34482            3.102376       7          3         10.0       0.000000   \n",
       "70239            2.041859       7          5         10.0       0.693147   \n",
       "...                   ...     ...        ...          ...            ...   \n",
       "123421           1.319396       7          2         15.0       2.302585   \n",
       "126083           3.824581       7          5         41.0       1.386294   \n",
       "20718            5.330803       7          5         59.0       0.405465   \n",
       "18867            3.134459       7          5         10.0       1.252763   \n",
       "36086            1.925436       7          5         41.0       0.000000   \n",
       "\n",
       "         width  country    customer  product_ref  \n",
       "55954    950.0     39.0  30161656.0   1670798778  \n",
       "150689  1000.0     77.0  30161540.0       628377  \n",
       "135738  1240.0     25.0  30218705.0       611993  \n",
       "34482   1342.0     27.0  30217607.0   1693867550  \n",
       "70239   1000.0     78.0  30336052.0    164141591  \n",
       "...        ...      ...         ...          ...  \n",
       "123421  1500.0     26.0  30227447.0       640405  \n",
       "126083  1240.0     25.0  30202938.0    164141591  \n",
       "20718   1230.0     26.0  30201046.0   1670798778  \n",
       "18867   1560.0     28.0  30156308.0       640665  \n",
       "36086   1100.0     28.0  30160001.0       611993  \n",
       "\n",
       "[125744 rows x 9 columns]"
      ]
     },
     "execution_count": 118,
     "metadata": {},
     "output_type": "execute_result"
    }
   ],
   "source": [
    "X_train"
   ]
  },
  {
   "cell_type": "code",
   "execution_count": 119,
   "id": "d0070133",
   "metadata": {},
   "outputs": [
    {
     "data": {
      "image/png": "[encoded data removed]",
      "text/plain": [
       "<Figure size 640x480 with 1 Axes>"
      ]
     },
     "metadata": {},
     "output_type": "display_data"
    }
   ],
   "source": [
    "sns.distplot(X_train['thickness_log'])\n",
    "plt.show()\n"
   ]
  },
  {
   "cell_type": "markdown",
   "id": "cc23efc7",
   "metadata": {},
   "source": [
    "# Scaling"
   ]
  },
  {
   "cell_type": "code",
   "execution_count": 120,
   "id": "9b6996a2",
   "metadata": {},
   "outputs": [
    {
     "data": {
      "text/html": [
       "<div>\n",
       "<style scoped>\n",
       "    .dataframe tbody tr th:only-of-type {\n",
       "        vertical-align: middle;\n",
       "    }\n",
       "\n",
       "    .dataframe tbody tr th {\n",
       "        vertical-align: top;\n",
       "    }\n",
       "\n",
       "    .dataframe thead th {\n",
       "        text-align: right;\n",
       "    }\n",
       "</style>\n",
       "<table border=\"1\" class=\"dataframe\">\n",
       "  <thead>\n",
       "    <tr style=\"text-align: right;\">\n",
       "      <th></th>\n",
       "      <th>quantity tons_log</th>\n",
       "      <th>status</th>\n",
       "      <th>item type</th>\n",
       "      <th>application</th>\n",
       "      <th>thickness_log</th>\n",
       "      <th>width</th>\n",
       "      <th>country</th>\n",
       "      <th>customer</th>\n",
       "      <th>product_ref</th>\n",
       "    </tr>\n",
       "  </thead>\n",
       "  <tbody>\n",
       "    <tr>\n",
       "      <th>55954</th>\n",
       "      <td>4.031168</td>\n",
       "      <td>6</td>\n",
       "      <td>5</td>\n",
       "      <td>10.0</td>\n",
       "      <td>0.916291</td>\n",
       "      <td>950.0</td>\n",
       "      <td>39.0</td>\n",
       "      <td>30161656.0</td>\n",
       "      <td>1670798778</td>\n",
       "    </tr>\n",
       "    <tr>\n",
       "      <th>150689</th>\n",
       "      <td>3.943565</td>\n",
       "      <td>7</td>\n",
       "      <td>5</td>\n",
       "      <td>15.0</td>\n",
       "      <td>0.405465</td>\n",
       "      <td>1000.0</td>\n",
       "      <td>77.0</td>\n",
       "      <td>30161540.0</td>\n",
       "      <td>628377</td>\n",
       "    </tr>\n",
       "    <tr>\n",
       "      <th>135738</th>\n",
       "      <td>1.879602</td>\n",
       "      <td>7</td>\n",
       "      <td>5</td>\n",
       "      <td>41.0</td>\n",
       "      <td>-0.051293</td>\n",
       "      <td>1240.0</td>\n",
       "      <td>25.0</td>\n",
       "      <td>30218705.0</td>\n",
       "      <td>611993</td>\n",
       "    </tr>\n",
       "    <tr>\n",
       "      <th>34482</th>\n",
       "      <td>3.102376</td>\n",
       "      <td>7</td>\n",
       "      <td>3</td>\n",
       "      <td>10.0</td>\n",
       "      <td>0.000000</td>\n",
       "      <td>1342.0</td>\n",
       "      <td>27.0</td>\n",
       "      <td>30217607.0</td>\n",
       "      <td>1693867550</td>\n",
       "    </tr>\n",
       "    <tr>\n",
       "      <th>70239</th>\n",
       "      <td>2.041859</td>\n",
       "      <td>7</td>\n",
       "      <td>5</td>\n",
       "      <td>10.0</td>\n",
       "      <td>0.693147</td>\n",
       "      <td>1000.0</td>\n",
       "      <td>78.0</td>\n",
       "      <td>30336052.0</td>\n",
       "      <td>164141591</td>\n",
       "    </tr>\n",
       "    <tr>\n",
       "      <th>...</th>\n",
       "      <td>...</td>\n",
       "      <td>...</td>\n",
       "      <td>...</td>\n",
       "      <td>...</td>\n",
       "      <td>...</td>\n",
       "      <td>...</td>\n",
       "      <td>...</td>\n",
       "      <td>...</td>\n",
       "      <td>...</td>\n",
       "    </tr>\n",
       "    <tr>\n",
       "      <th>123421</th>\n",
       "      <td>1.319396</td>\n",
       "      <td>7</td>\n",
       "      <td>2</td>\n",
       "      <td>15.0</td>\n",
       "      <td>2.302585</td>\n",
       "      <td>1500.0</td>\n",
       "      <td>26.0</td>\n",
       "      <td>30227447.0</td>\n",
       "      <td>640405</td>\n",
       "    </tr>\n",
       "    <tr>\n",
       "      <th>126083</th>\n",
       "      <td>3.824581</td>\n",
       "      <td>7</td>\n",
       "      <td>5</td>\n",
       "      <td>41.0</td>\n",
       "      <td>1.386294</td>\n",
       "      <td>1240.0</td>\n",
       "      <td>25.0</td>\n",
       "      <td>30202938.0</td>\n",
       "      <td>164141591</td>\n",
       "    </tr>\n",
       "    <tr>\n",
       "      <th>20718</th>\n",
       "      <td>5.330803</td>\n",
       "      <td>7</td>\n",
       "      <td>5</td>\n",
       "      <td>59.0</td>\n",
       "      <td>0.405465</td>\n",
       "      <td>1230.0</td>\n",
       "      <td>26.0</td>\n",
       "      <td>30201046.0</td>\n",
       "      <td>1670798778</td>\n",
       "    </tr>\n",
       "    <tr>\n",
       "      <th>18867</th>\n",
       "      <td>3.134459</td>\n",
       "      <td>7</td>\n",
       "      <td>5</td>\n",
       "      <td>10.0</td>\n",
       "      <td>1.252763</td>\n",
       "      <td>1560.0</td>\n",
       "      <td>28.0</td>\n",
       "      <td>30156308.0</td>\n",
       "      <td>640665</td>\n",
       "    </tr>\n",
       "    <tr>\n",
       "      <th>36086</th>\n",
       "      <td>1.925436</td>\n",
       "      <td>7</td>\n",
       "      <td>5</td>\n",
       "      <td>41.0</td>\n",
       "      <td>0.000000</td>\n",
       "      <td>1100.0</td>\n",
       "      <td>28.0</td>\n",
       "      <td>30160001.0</td>\n",
       "      <td>611993</td>\n",
       "    </tr>\n",
       "  </tbody>\n",
       "</table>\n",
       "<p>125744 rows × 9 columns</p>\n",
       "</div>"
      ],
      "text/plain": [
       "        quantity tons_log  status  item type  application  thickness_log  \\\n",
       "55954            4.031168       6          5         10.0       0.916291   \n",
       "150689           3.943565       7          5         15.0       0.405465   \n",
       "135738           1.879602       7          5         41.0      -0.051293   \n",
       "34482            3.102376       7          3         10.0       0.000000   \n",
       "70239            2.041859       7          5         10.0       0.693147   \n",
       "...                   ...     ...        ...          ...            ...   \n",
       "123421           1.319396       7          2         15.0       2.302585   \n",
       "126083           3.824581       7          5         41.0       1.386294   \n",
       "20718            5.330803       7          5         59.0       0.405465   \n",
       "18867            3.134459       7          5         10.0       1.252763   \n",
       "36086            1.925436       7          5         41.0       0.000000   \n",
       "\n",
       "         width  country    customer  product_ref  \n",
       "55954    950.0     39.0  30161656.0   1670798778  \n",
       "150689  1000.0     77.0  30161540.0       628377  \n",
       "135738  1240.0     25.0  30218705.0       611993  \n",
       "34482   1342.0     27.0  30217607.0   1693867550  \n",
       "70239   1000.0     78.0  30336052.0    164141591  \n",
       "...        ...      ...         ...          ...  \n",
       "123421  1500.0     26.0  30227447.0       640405  \n",
       "126083  1240.0     25.0  30202938.0    164141591  \n",
       "20718   1230.0     26.0  30201046.0   1670798778  \n",
       "18867   1560.0     28.0  30156308.0       640665  \n",
       "36086   1100.0     28.0  30160001.0       611993  \n",
       "\n",
       "[125744 rows x 9 columns]"
      ]
     },
     "execution_count": 120,
     "metadata": {},
     "output_type": "execute_result"
    }
   ],
   "source": [
    "from sklearn.preprocessing import StandardScaler\n",
    "SS = StandardScaler()\n",
    "SS.fit_transform(X_train)\n",
    "\n",
    "X_train"
   ]
  },
  {
   "cell_type": "code",
   "execution_count": null,
   "id": "b7b424bd",
   "metadata": {},
   "outputs": [],
   "source": [
    "X_train.iloc[65843]"
   ]
  },
  {
   "cell_type": "code",
   "execution_count": null,
   "id": "d5e125b5",
   "metadata": {},
   "outputs": [],
   "source": [
    "X_train"
   ]
  },
  {
   "cell_type": "markdown",
   "id": "6a54f030",
   "metadata": {},
   "source": [
    "# Correlation ( Feature selection)"
   ]
  },
  {
   "cell_type": "code",
   "execution_count": 121,
   "id": "6f313edc",
   "metadata": {},
   "outputs": [
    {
     "data": {
      "image/png": "[encoded data removed]",
      "text/plain": [
       "<Figure size 640x480 with 2 Axes>"
      ]
     },
     "metadata": {},
     "output_type": "display_data"
    }
   ],
   "source": [
    "corr_matrix = X_train.corr(method='pearson') \n",
    "\n",
    "sns.heatmap(corr_matrix, annot=True, cmap='RdBu_r')\n",
    "plt.show()\n",
    "# no positive correlation, slighly negative correlated between thickness and application"
   ]
  },
  {
   "cell_type": "code",
   "execution_count": null,
   "id": "5df91be0",
   "metadata": {},
   "outputs": [],
   "source": []
  },
  {
   "cell_type": "markdown",
   "id": "aa9247fe",
   "metadata": {},
   "source": [
    "# Regression"
   ]
  },
  {
   "cell_type": "code",
   "execution_count": 122,
   "id": "15fc44f6",
   "metadata": {},
   "outputs": [],
   "source": [
    "#import regression algorithm.\n",
    "from sklearn.tree import DecisionTreeRegressor\n",
    "from sklearn.linear_model import LinearRegression\n",
    "from sklearn.model_selection import GridSearchCV\n",
    "from sklearn.ensemble import RandomForestRegressor\n",
    "from sklearn.ensemble import GradientBoostingRegressor\n"
   ]
  },
  {
   "cell_type": "markdown",
   "id": "6fa77c1d",
   "metadata": {},
   "source": [
    "### Linear Regression"
   ]
  },
  {
   "cell_type": "code",
   "execution_count": 123,
   "id": "45310995",
   "metadata": {},
   "outputs": [
    {
     "name": "stdout",
     "output_type": "stream",
     "text": [
      "-5.725093352413854\n",
      "[ 1.85642239e-02  5.14951419e-02  5.00160308e-03 -1.13256133e-03\n",
      " -9.24949358e-02  1.34877844e-05 -1.41115234e-03  4.00508411e-07\n",
      "  3.04580805e-11]\n",
      "0.08460108310452896\n",
      "0.07568244911406508\n"
     ]
    }
   ],
   "source": [
    "lr = LinearRegression()\n",
    "lr.fit(X_train, y_train)\n",
    "print(lr.intercept_)\n",
    "print(lr.coef_)\n",
    "print(lr.score(X_train, y_train))\n",
    "print(lr.score(X_test, y_test))"
   ]
  },
  {
   "cell_type": "code",
   "execution_count": 124,
   "id": "61c4456a",
   "metadata": {},
   "outputs": [
    {
     "data": {
      "text/plain": [
       "quantity tons_log    6.766276e+00\n",
       "status               7.000000e+00\n",
       "item type            5.000000e+00\n",
       "application          5.600000e+01\n",
       "thickness_log        1.098612e+00\n",
       "width                9.000000e+02\n",
       "country              2.600000e+01\n",
       "customer             3.020601e+07\n",
       "product_ref          6.406650e+05\n",
       "Name: 87681, dtype: float64"
      ]
     },
     "execution_count": 124,
     "metadata": {},
     "output_type": "execute_result"
    }
   ],
   "source": [
    "X_test.iloc[0]"
   ]
  },
  {
   "cell_type": "markdown",
   "id": "01dd18df",
   "metadata": {},
   "source": [
    "### Metrics"
   ]
  },
  {
   "cell_type": "code",
   "execution_count": 125,
   "id": "5eb5b624",
   "metadata": {},
   "outputs": [
    {
     "name": "stdout",
     "output_type": "stream",
     "text": [
      "0.5404078190010063\n",
      "0.2710020477023817\n",
      "0.29204061083742444\n"
     ]
    }
   ],
   "source": [
    "from sklearn import metrics\n",
    "y_pred=lr.predict(X_test)\n",
    "print(np.sqrt(metrics.mean_squared_error(y_test, y_pred)))\n",
    "print(metrics.mean_absolute_error(y_test, y_pred))\n",
    "print(metrics.mean_squared_error(y_test, y_pred))"
   ]
  },
  {
   "cell_type": "markdown",
   "id": "2d7faacf",
   "metadata": {},
   "source": [
    "### Lasso (L1)"
   ]
  },
  {
   "cell_type": "code",
   "execution_count": 44,
   "id": "cc1fc921",
   "metadata": {},
   "outputs": [
    {
     "name": "stdout",
     "output_type": "stream",
     "text": [
      "-1.63624949005197\n",
      "[ 0.00000000e+00  3.73709326e-02  0.00000000e+00 -0.00000000e+00\n",
      " -0.00000000e+00 -1.11242688e-04 -9.25037209e-04  2.73026850e-07\n",
      "  4.23934651e-12]\n",
      "0.05968574835507956\n",
      "0.05449132620756181\n"
     ]
    }
   ],
   "source": [
    "from sklearn import linear_model\n",
    "from sklearn.model_selection import cross_val_score,KFold\n",
    "\n",
    "lr_lasso = linear_model.Lasso(alpha=0.1)\n",
    "lr_lasso.fit(X_train, y_train)\n",
    "print(lr_lasso.intercept_)\n",
    "print(lr_lasso.coef_)\n",
    "print(lr_lasso.score(X_train, y_train))\n",
    "print(lr_lasso.score(X_test, y_test))"
   ]
  },
  {
   "cell_type": "markdown",
   "id": "225dd752",
   "metadata": {},
   "source": [
    "### Ridge (L2)"
   ]
  },
  {
   "cell_type": "code",
   "execution_count": 45,
   "id": "dbc47ba1",
   "metadata": {},
   "outputs": [
    {
     "name": "stdout",
     "output_type": "stream",
     "text": [
      "-5.725070158819964\n",
      "[ 1.85641779e-02  5.14951204e-02  5.00157764e-03 -1.13255772e-03\n",
      " -9.24943908e-02  1.34870529e-05 -1.41115082e-03  4.00507677e-07\n",
      "  3.04579066e-11]\n",
      "0.08460108310387426\n",
      "0.07568247475853607\n"
     ]
    }
   ],
   "source": [
    "\n",
    "lr_Ridge = linear_model.Ridge(alpha=0.5)\n",
    "lr_Ridge.fit(X_train, y_train)\n",
    "print(lr_Ridge.intercept_)\n",
    "print(lr_Ridge.coef_)\n",
    "print(lr_Ridge.score(X_train, y_train))\n",
    "print(lr_Ridge.score(X_test, y_test))"
   ]
  },
  {
   "cell_type": "markdown",
   "id": "db0bf425",
   "metadata": {},
   "source": [
    "### RandomForest Regressor"
   ]
  },
  {
   "cell_type": "code",
   "execution_count": 46,
   "id": "b7764043",
   "metadata": {},
   "outputs": [
    {
     "name": "stdout",
     "output_type": "stream",
     "text": [
      "0.8789455931648871\n",
      "0.8753185204467644\n"
     ]
    }
   ],
   "source": [
    "rf = RandomForestRegressor(n_estimators = 20, max_depth = 4, random_state = 42)\n",
    "rf.fit(X_train, y_train)\n",
    "print(rf.score(X_train, y_train))\n",
    "print(rf.score(X_test,y_test))"
   ]
  },
  {
   "cell_type": "code",
   "execution_count": 47,
   "id": "04805d50",
   "metadata": {},
   "outputs": [
    {
     "name": "stdout",
     "output_type": "stream",
     "text": [
      "0.8631741427446481\n",
      "0.8603883017194816\n"
     ]
    }
   ],
   "source": [
    "gbr = GradientBoostingRegressor(n_estimators = 20, learning_rate = 0.1, random_state =42)\n",
    "gbr.fit(X_train,y_train)\n",
    "print(gbr.score(X_train,y_train))\n",
    "print(gbr.score(X_test,y_test))"
   ]
  },
  {
   "cell_type": "code",
   "execution_count": 126,
   "id": "bbc5be83",
   "metadata": {},
   "outputs": [
    {
     "name": "stdout",
     "output_type": "stream",
     "text": [
      "Best hyperparameters: {'max_depth': 20, 'max_features': 'auto', 'min_samples_leaf': 4, 'min_samples_split': 10}\n"
     ]
    }
   ],
   "source": [
    "dtr = DecisionTreeRegressor()\n",
    "# hyperparameters\n",
    "param_grid = {'max_depth': [2, 5, 10, 20],\n",
    "              'min_samples_split': [2, 5, 10],\n",
    "              'min_samples_leaf': [1, 2, 4],\n",
    "              'max_features': ['auto', 'sqrt', 'log2']}\n",
    "# gridsearchcv\n",
    "grid_search = GridSearchCV(estimator=dtr, param_grid=param_grid, cv=5)\n",
    "grid_search.fit(X_train, y_train)\n",
    "print(\"Best hyperparameters:\", grid_search.best_params_)\n",
    "best_model = grid_search.best_estimator_\n",
    "y_pred = best_model.predict(X_test)\n"
   ]
  },
  {
   "cell_type": "code",
   "execution_count": 127,
   "id": "d3cea1c0",
   "metadata": {},
   "outputs": [
    {
     "data": {
      "text/plain": [
       "array([6.28665918, 6.60259763, 6.42229843, ..., 6.77353964, 6.69435681,\n",
       "       6.67219601])"
      ]
     },
     "execution_count": 127,
     "metadata": {},
     "output_type": "execute_result"
    }
   ],
   "source": [
    "y_pred"
   ]
  },
  {
   "cell_type": "code",
   "execution_count": 128,
   "id": "d14305ce",
   "metadata": {},
   "outputs": [
    {
     "data": {
      "text/plain": [
       "6.401917196727186"
      ]
     },
     "execution_count": 128,
     "metadata": {},
     "output_type": "execute_result"
    }
   ],
   "source": [
    "y_test.iloc[0]"
   ]
  },
  {
   "cell_type": "code",
   "execution_count": 130,
   "id": "9c37ef8e",
   "metadata": {},
   "outputs": [
    {
     "data": {
      "text/plain": [
       "quantity tons_log    6.766276e+00\n",
       "status               7.000000e+00\n",
       "item type            5.000000e+00\n",
       "application          5.600000e+01\n",
       "thickness_log        1.098612e+00\n",
       "width                9.000000e+02\n",
       "country              2.600000e+01\n",
       "customer             3.020601e+07\n",
       "product_ref          6.406650e+05\n",
       "Name: 87681, dtype: float64"
      ]
     },
     "execution_count": 130,
     "metadata": {},
     "output_type": "execute_result"
    }
   ],
   "source": [
    "X_test.iloc[0]"
   ]
  },
  {
   "cell_type": "markdown",
   "id": "524434a0",
   "metadata": {},
   "source": [
    "### metrics"
   ]
  },
  {
   "cell_type": "code",
   "execution_count": 52,
   "id": "a9f93f3e",
   "metadata": {},
   "outputs": [
    {
     "data": {
      "text/plain": [
       "0.027900926138466592"
      ]
     },
     "execution_count": 52,
     "metadata": {},
     "output_type": "execute_result"
    }
   ],
   "source": [
    "#check MSE\n",
    "metrics.mean_squared_error(y_test,y_pred)"
   ]
  },
  {
   "cell_type": "code",
   "execution_count": 53,
   "id": "7b23807c",
   "metadata": {},
   "outputs": [
    {
     "data": {
      "text/plain": [
       "0.11682737956108867"
      ]
     },
     "execution_count": 53,
     "metadata": {},
     "output_type": "execute_result"
    }
   ],
   "source": [
    "#check MAE\n",
    "metrics.mean_absolute_error(y_test, y_pred)"
   ]
  },
  {
   "cell_type": "code",
   "execution_count": 54,
   "id": "757e3fc4",
   "metadata": {},
   "outputs": [
    {
     "name": "stdout",
     "output_type": "stream",
     "text": [
      "0.9116927072512069\n"
     ]
    }
   ],
   "source": [
    "#R2 Score\n",
    "print(metrics.r2_score(y_test,y_pred))"
   ]
  },
  {
   "cell_type": "markdown",
   "id": "6695f2e6",
   "metadata": {},
   "source": [
    "# Classfication"
   ]
  },
  {
   "cell_type": "code",
   "execution_count": 131,
   "id": "ca616c94",
   "metadata": {},
   "outputs": [
    {
     "data": {
      "text/plain": [
       "Won                116004\n",
       "Lost                34431\n",
       "Not lost for AM     19568\n",
       "Revised              4276\n",
       "To be approved       4167\n",
       "Draft                3121\n",
       "Offered                53\n",
       "Offerable              10\n",
       "Wonderful               1\n",
       "Name: status, dtype: int64"
      ]
     },
     "execution_count": 131,
     "metadata": {},
     "output_type": "execute_result"
    }
   ],
   "source": [
    "df.status.value_counts()"
   ]
  },
  {
   "cell_type": "code",
   "execution_count": 132,
   "id": "4ff0bc9f",
   "metadata": {},
   "outputs": [],
   "source": [
    "dfc = df.copy()"
   ]
  },
  {
   "cell_type": "code",
   "execution_count": 133,
   "id": "d7235302",
   "metadata": {},
   "outputs": [
    {
     "data": {
      "text/plain": [
       "150435"
      ]
     },
     "execution_count": 133,
     "metadata": {},
     "output_type": "execute_result"
    }
   ],
   "source": [
    "dfc = df[df['status'].isin(['Won', 'Lost'])]\n",
    "len(dfc)"
   ]
  },
  {
   "cell_type": "code",
   "execution_count": 134,
   "id": "bfab149f",
   "metadata": {},
   "outputs": [
    {
     "data": {
      "text/plain": [
       "Won     116004\n",
       "Lost     34431\n",
       "Name: status, dtype: int64"
      ]
     },
     "execution_count": 134,
     "metadata": {},
     "output_type": "execute_result"
    }
   ],
   "source": [
    "dfc.status.value_counts()"
   ]
  },
  {
   "cell_type": "code",
   "execution_count": 135,
   "id": "0baae404",
   "metadata": {},
   "outputs": [],
   "source": [
    "#use Label encoder to convert categorical data into numerical data.\n",
    "le = LabelEncoder()\n",
    "dfc.status = le.fit_transform(dfc[['status']])\n",
    "dfc['item type'] = le.fit_transform(dfc[['item type']])"
   ]
  },
  {
   "cell_type": "code",
   "execution_count": 136,
   "id": "7dfc46db",
   "metadata": {},
   "outputs": [],
   "source": [
    "#split data into X, y\n",
    "X = dfc[['quantity tons','selling_price','item type','application','thickness','width','country','customer','product_ref']]\n",
    "y = dfc['status']"
   ]
  },
  {
   "cell_type": "code",
   "execution_count": 137,
   "id": "5c7963c6",
   "metadata": {},
   "outputs": [
    {
     "name": "stdout",
     "output_type": "stream",
     "text": [
      "(105304, 9)\n",
      "(45131, 9)\n",
      "(105304,)\n",
      "(45131,)\n"
     ]
    }
   ],
   "source": [
    "#split data into train test\n",
    "X_train, X_test, y_train, y_test = train_test_split(X, y, test_size = 0.3, random_state = 5)\n",
    "print(X_train.shape)\n",
    "print(X_test.shape)\n",
    "print(y_train.shape)\n",
    "print(y_test.shape)"
   ]
  },
  {
   "cell_type": "code",
   "execution_count": 138,
   "id": "133b6e48",
   "metadata": {},
   "outputs": [
    {
     "data": {
      "text/plain": [
       "array([[-0.19158788, -0.64640583,  0.76779846, ..., -0.83442436,\n",
       "        -0.49813806, -0.6602316 ],\n",
       "       [-0.13114263, -0.7117355 ,  0.76779846, ..., -0.75279044,\n",
       "        -0.0853274 ,  1.66956618],\n",
       "       [-0.18996212,  0.42064545, -1.13783577, ..., -0.83442436,\n",
       "        -0.48035394,  1.69738083],\n",
       "       ...,\n",
       "       [-0.17393705,  0.23710019,  0.76779846, ..., -0.54870564,\n",
       "         1.59293535, -0.66023124],\n",
       "       [-0.19955408,  1.17660306,  0.76779846, ..., -0.7936074 ,\n",
       "        -0.4812663 , -0.66027123],\n",
       "       [-0.12664849,  0.8406219 , -1.13783577, ..., -0.7936074 ,\n",
       "        -0.47699924, -0.43215461]])"
      ]
     },
     "execution_count": 138,
     "metadata": {},
     "output_type": "execute_result"
    }
   ],
   "source": [
    "SS.fit_transform(X_train)"
   ]
  },
  {
   "cell_type": "code",
   "execution_count": 139,
   "id": "788c49dc",
   "metadata": {},
   "outputs": [],
   "source": [
    "#import classifier algorithms.\n",
    "from sklearn.tree import DecisionTreeClassifier\n",
    "from sklearn.neighbors import KNeighborsClassifier\n",
    "from sklearn.ensemble import RandomForestClassifier\n",
    "from sklearn.ensemble import GradientBoostingClassifier\n",
    "from sklearn.linear_model import LogisticRegression"
   ]
  },
  {
   "cell_type": "code",
   "execution_count": 64,
   "id": "495334c8",
   "metadata": {},
   "outputs": [
    {
     "name": "stdout",
     "output_type": "stream",
     "text": [
      "0.8468244321203373\n",
      "0.8461589594735326\n"
     ]
    }
   ],
   "source": [
    "dtc = DecisionTreeClassifier(max_depth = 8, random_state = 1)\n",
    "dtc.fit(X_train, y_train)\n",
    "train_score = dtc.score(X_train, y_train)\n",
    "test_score = dtc.score(X_test, y_test)\n",
    "print(train_score)\n",
    "print(test_score)"
   ]
  },
  {
   "cell_type": "code",
   "execution_count": 179,
   "id": "14e7fbdb",
   "metadata": {},
   "outputs": [
    {
     "name": "stdout",
     "output_type": "stream",
     "text": [
      "0.931066246296437\n",
      "0.8978529170636591\n"
     ]
    }
   ],
   "source": [
    "knn = KNeighborsClassifier(n_neighbors =5)\n",
    "knn.fit(X_train, y_train)\n",
    "print(knn.score(X_train, y_train))\n",
    "print(knn.score(X_test, y_test))"
   ]
  },
  {
   "cell_type": "code",
   "execution_count": 180,
   "id": "ab38175b",
   "metadata": {},
   "outputs": [],
   "source": [
    "y_predict = knn.predict(X_test)"
   ]
  },
  {
   "cell_type": "code",
   "execution_count": 189,
   "id": "51e04674",
   "metadata": {},
   "outputs": [
    {
     "data": {
      "text/plain": [
       "quantity tons    2.675338e+01\n",
       "selling_price    7.590000e+02\n",
       "item type        3.000000e+00\n",
       "application      1.000000e+01\n",
       "thickness        2.500000e+00\n",
       "width            1.250000e+03\n",
       "country          3.800000e+01\n",
       "customer         3.028116e+07\n",
       "product_ref      6.406650e+05\n",
       "Name: 52360, dtype: float64"
      ]
     },
     "execution_count": 189,
     "metadata": {},
     "output_type": "execute_result"
    }
   ],
   "source": [
    "X_test.iloc[0]"
   ]
  },
  {
   "cell_type": "code",
   "execution_count": 142,
   "id": "e4bbebcc",
   "metadata": {},
   "outputs": [
    {
     "data": {
      "text/plain": [
       "array([0, 1, 1, ..., 1, 1, 1])"
      ]
     },
     "execution_count": 142,
     "metadata": {},
     "output_type": "execute_result"
    }
   ],
   "source": [
    "y_predict"
   ]
  },
  {
   "cell_type": "code",
   "execution_count": 66,
   "id": "fe13089e",
   "metadata": {},
   "outputs": [
    {
     "name": "stdout",
     "output_type": "stream",
     "text": [
      "0.8371381903821318\n",
      "0.8386474928541358\n"
     ]
    }
   ],
   "source": [
    "gbc = GradientBoostingClassifier(n_estimators = 30, learning_rate = 0.5,random_state = 28)\n",
    "gbc.fit(X_train, y_train)\n",
    "print(gbc.score(X_train, y_train))\n",
    "print(gbc.score(X_test, y_test))"
   ]
  },
  {
   "cell_type": "code",
   "execution_count": null,
   "id": "406aa9e3",
   "metadata": {},
   "outputs": [],
   "source": []
  },
  {
   "cell_type": "code",
   "execution_count": null,
   "id": "8724632c",
   "metadata": {},
   "outputs": [],
   "source": []
  },
  {
   "cell_type": "code",
   "execution_count": 67,
   "id": "e04c096b",
   "metadata": {},
   "outputs": [
    {
     "name": "stdout",
     "output_type": "stream",
     "text": [
      "0.8214407809769809\n",
      "0.8216746803749087\n"
     ]
    }
   ],
   "source": [
    "rfc = RandomForestClassifier(n_estimators = 15, max_depth =6,random_state = 35)\n",
    "rfc.fit(X_train, y_train)\n",
    "print(rfc.score(X_train, y_train))\n",
    "print(rfc.score(X_test, y_test))"
   ]
  },
  {
   "cell_type": "code",
   "execution_count": 68,
   "id": "293ea27f",
   "metadata": {},
   "outputs": [
    {
     "name": "stdout",
     "output_type": "stream",
     "text": [
      "0.7716895844412368\n",
      "0.7698034610356518\n"
     ]
    }
   ],
   "source": [
    "LR = LogisticRegression()\n",
    "LR.fit(X_train,y_train)\n",
    "print(LR.score(X_train, y_train))\n",
    "print(LR.score(X_test, y_test))"
   ]
  },
  {
   "cell_type": "code",
   "execution_count": 69,
   "id": "c5cf8ac7",
   "metadata": {},
   "outputs": [
    {
     "data": {
      "text/plain": [
       "0.9920325913545545"
      ]
     },
     "execution_count": 69,
     "metadata": {},
     "output_type": "execute_result"
    }
   ],
   "source": [
    "from sklearn.metrics import auc, accuracy_score, confusion_matrix, mean_squared_error\n",
    "import xgboost as xgb\n",
    "\n",
    "xgb_model = xgb.XGBClassifier(n_estimators=100,  learning_rate=0.5, max_depth= 10,objective=\"binary:logistic\", random_state=42)\n",
    "xgb_model.fit(X_train, y_train)\n",
    "xgb_model.score(X_train, y_train)"
   ]
  },
  {
   "cell_type": "code",
   "execution_count": 70,
   "id": "f178008e",
   "metadata": {},
   "outputs": [],
   "source": [
    "y_predict = xgb_model.predict(X_test)"
   ]
  },
  {
   "cell_type": "code",
   "execution_count": 181,
   "id": "4028d204",
   "metadata": {},
   "outputs": [
    {
     "data": {
      "text/plain": [
       "array([[ 7790,  2599],\n",
       "       [ 2011, 32731]], dtype=int64)"
      ]
     },
     "execution_count": 181,
     "metadata": {},
     "output_type": "execute_result"
    }
   ],
   "source": [
    "from sklearn.metrics import confusion_matrix\n",
    "cm = confusion_matrix(y_test,y_predict)\n",
    "cm"
   ]
  },
  {
   "cell_type": "code",
   "execution_count": 182,
   "id": "f7016108",
   "metadata": {},
   "outputs": [
    {
     "data": {
      "text/plain": [
       "Text(58.222222222222214, 0.5, 'Truth')"
      ]
     },
     "execution_count": 182,
     "metadata": {},
     "output_type": "execute_result"
    },
    {
     "data": {
      "image/png": "[encoded data removed]",
      "text/plain": [
       "<Figure size 700x500 with 2 Axes>"
      ]
     },
     "metadata": {},
     "output_type": "display_data"
    }
   ],
   "source": [
    "#draw heatmap\n",
    "plt.figure(figsize = (7,5))\n",
    "sns.heatmap(cm, annot = True)\n",
    "plt.xlabel('Predicted')\n",
    "plt.ylabel('Truth')"
   ]
  },
  {
   "cell_type": "code",
   "execution_count": 183,
   "id": "d5427770",
   "metadata": {},
   "outputs": [],
   "source": [
    "from sklearn.metrics import accuracy_score, f1_score,classification_report, roc_curve, auc"
   ]
  },
  {
   "cell_type": "code",
   "execution_count": 184,
   "id": "d3f12d20",
   "metadata": {},
   "outputs": [
    {
     "data": {
      "text/plain": [
       "0.8978529170636591"
      ]
     },
     "execution_count": 184,
     "metadata": {},
     "output_type": "execute_result"
    }
   ],
   "source": [
    "#check accuracy score.\n",
    "accuracy_score(y_test, y_predict)"
   ]
  },
  {
   "cell_type": "code",
   "execution_count": 185,
   "id": "b907ec87",
   "metadata": {},
   "outputs": [
    {
     "data": {
      "text/plain": [
       "0.8967940624702836"
      ]
     },
     "execution_count": 185,
     "metadata": {},
     "output_type": "execute_result"
    }
   ],
   "source": [
    "f1_score(y_test,y_predict, average = 'weighted')"
   ]
  },
  {
   "cell_type": "code",
   "execution_count": 186,
   "id": "8afaa90f",
   "metadata": {},
   "outputs": [
    {
     "data": {
      "image/png": "[encoded data removed]",
      "text/plain": [
       "<Figure size 640x480 with 1 Axes>"
      ]
     },
     "metadata": {},
     "output_type": "display_data"
    }
   ],
   "source": [
    "# ROC curve and AUC\n",
    "fpr, tpr, thresholds = roc_curve(y_test, y_predict)\n",
    "roc_auc = auc(fpr, tpr)\n",
    "plt.plot(fpr, tpr, label='ROC curve (area = %0.2f)' % roc_auc)\n",
    "plt.plot([0, 1], [0, 1], 'm-')\n",
    "plt.xlim([0.0, 1.0])\n",
    "plt.ylim([0.0, 1.2])\n",
    "plt.xlabel('False Positive Rate')\n",
    "plt.ylabel('True Positive Rate')\n",
    "plt.title('ROC Curve')\n",
    "plt.legend()\n",
    "plt.show()"
   ]
  },
  {
   "cell_type": "code",
   "execution_count": 187,
   "id": "fa086481",
   "metadata": {},
   "outputs": [
    {
     "name": "stdout",
     "output_type": "stream",
     "text": [
      "              precision    recall  f1-score   support\n",
      "\n",
      "           0       0.79      0.75      0.77     10389\n",
      "           1       0.93      0.94      0.93     34742\n",
      "\n",
      "    accuracy                           0.90     45131\n",
      "   macro avg       0.86      0.85      0.85     45131\n",
      "weighted avg       0.90      0.90      0.90     45131\n",
      "\n"
     ]
    }
   ],
   "source": [
    "print(classification_report(y_test, y_predict))"
   ]
  },
  {
   "cell_type": "code",
   "execution_count": 188,
   "id": "a81e5bad",
   "metadata": {},
   "outputs": [
    {
     "data": {
      "text/plain": [
       "0.10214708293634088"
      ]
     },
     "execution_count": 188,
     "metadata": {},
     "output_type": "execute_result"
    }
   ],
   "source": [
    "mean_squared_error(y_test, y_predict)"
   ]
  },
  {
   "cell_type": "code",
   "execution_count": 72,
   "id": "6f92a247",
   "metadata": {},
   "outputs": [
    {
     "data": {
      "text/html": [
       "<style>#sk-container-id-1 {color: black;background-color: white;}#sk-container-id-1 pre{padding: 0;}#sk-container-id-1 div.sk-toggleable {background-color: white;}#sk-container-id-1 label.sk-toggleable__label {cursor: pointer;display: block;width: 100%;margin-bottom: 0;padding: 0.3em;box-sizing: border-box;text-align: center;}#sk-container-id-1 label.sk-toggleable__label-arrow:before {content: \"▸\";float: left;margin-right: 0.25em;color: #696969;}#sk-container-id-1 label.sk-toggleable__label-arrow:hover:before {color: black;}#sk-container-id-1 div.sk-estimator:hover label.sk-toggleable__label-arrow:before {color: black;}#sk-container-id-1 div.sk-toggleable__content {max-height: 0;max-width: 0;overflow: hidden;text-align: left;background-color: #f0f8ff;}#sk-container-id-1 div.sk-toggleable__content pre {margin: 0.2em;color: black;border-radius: 0.25em;background-color: #f0f8ff;}#sk-container-id-1 input.sk-toggleable__control:checked~div.sk-toggleable__content {max-height: 200px;max-width: 100%;overflow: auto;}#sk-container-id-1 input.sk-toggleable__control:checked~label.sk-toggleable__label-arrow:before {content: \"▾\";}#sk-container-id-1 div.sk-estimator input.sk-toggleable__control:checked~label.sk-toggleable__label {background-color: #d4ebff;}#sk-container-id-1 div.sk-label input.sk-toggleable__control:checked~label.sk-toggleable__label {background-color: #d4ebff;}#sk-container-id-1 input.sk-hidden--visually {border: 0;clip: rect(1px 1px 1px 1px);clip: rect(1px, 1px, 1px, 1px);height: 1px;margin: -1px;overflow: hidden;padding: 0;position: absolute;width: 1px;}#sk-container-id-1 div.sk-estimator {font-family: monospace;background-color: #f0f8ff;border: 1px dotted black;border-radius: 0.25em;box-sizing: border-box;margin-bottom: 0.5em;}#sk-container-id-1 div.sk-estimator:hover {background-color: #d4ebff;}#sk-container-id-1 div.sk-parallel-item::after {content: \"\";width: 100%;border-bottom: 1px solid gray;flex-grow: 1;}#sk-container-id-1 div.sk-label:hover label.sk-toggleable__label {background-color: #d4ebff;}#sk-container-id-1 div.sk-serial::before {content: \"\";position: absolute;border-left: 1px solid gray;box-sizing: border-box;top: 0;bottom: 0;left: 50%;z-index: 0;}#sk-container-id-1 div.sk-serial {display: flex;flex-direction: column;align-items: center;background-color: white;padding-right: 0.2em;padding-left: 0.2em;position: relative;}#sk-container-id-1 div.sk-item {position: relative;z-index: 1;}#sk-container-id-1 div.sk-parallel {display: flex;align-items: stretch;justify-content: center;background-color: white;position: relative;}#sk-container-id-1 div.sk-item::before, #sk-container-id-1 div.sk-parallel-item::before {content: \"\";position: absolute;border-left: 1px solid gray;box-sizing: border-box;top: 0;bottom: 0;left: 50%;z-index: -1;}#sk-container-id-1 div.sk-parallel-item {display: flex;flex-direction: column;z-index: 1;position: relative;background-color: white;}#sk-container-id-1 div.sk-parallel-item:first-child::after {align-self: flex-end;width: 50%;}#sk-container-id-1 div.sk-parallel-item:last-child::after {align-self: flex-start;width: 50%;}#sk-container-id-1 div.sk-parallel-item:only-child::after {width: 0;}#sk-container-id-1 div.sk-dashed-wrapped {border: 1px dashed gray;margin: 0 0.4em 0.5em 0.4em;box-sizing: border-box;padding-bottom: 0.4em;background-color: white;}#sk-container-id-1 div.sk-label label {font-family: monospace;font-weight: bold;display: inline-block;line-height: 1.2em;}#sk-container-id-1 div.sk-label-container {text-align: center;}#sk-container-id-1 div.sk-container {/* jupyter's `normalize.less` sets `[hidden] { display: none; }` but bootstrap.min.css set `[hidden] { display: none !important; }` so we also need the `!important` here to be able to override the default hidden behavior on the sphinx rendered scikit-learn.org. See: https://github.com/scikit-learn/scikit-learn/issues/21755 */display: inline-block !important;position: relative;}#sk-container-id-1 div.sk-text-repr-fallback {display: none;}</style><div id=\"sk-container-id-1\" class=\"sk-top-container\"><div class=\"sk-text-repr-fallback\"><pre>XGBClassifier(base_score=None, booster=None, callbacks=None,\n",
       "              colsample_bylevel=None, colsample_bynode=None,\n",
       "              colsample_bytree=None, device=None, early_stopping_rounds=None,\n",
       "              enable_categorical=False, eval_metric=None, feature_types=None,\n",
       "              gamma=None, grow_policy=None, importance_type=None,\n",
       "              interaction_constraints=None, learning_rate=0.5, max_bin=None,\n",
       "              max_cat_threshold=None, max_cat_to_onehot=None,\n",
       "              max_delta_step=None, max_depth=10, max_leaves=None,\n",
       "              min_child_weight=None, missing=nan, monotone_constraints=None,\n",
       "              multi_strategy=None, n_estimators=100, n_jobs=None,\n",
       "              num_parallel_tree=None, random_state=42, ...)</pre><b>In a Jupyter environment, please rerun this cell to show the HTML representation or trust the notebook. <br />On GitHub, the HTML representation is unable to render, please try loading this page with nbviewer.org.</b></div><div class=\"sk-container\" hidden><div class=\"sk-item\"><div class=\"sk-estimator sk-toggleable\"><input class=\"sk-toggleable__control sk-hidden--visually\" id=\"sk-estimator-id-1\" type=\"checkbox\" checked><label for=\"sk-estimator-id-1\" class=\"sk-toggleable__label sk-toggleable__label-arrow\">XGBClassifier</label><div class=\"sk-toggleable__content\"><pre>XGBClassifier(base_score=None, booster=None, callbacks=None,\n",
       "              colsample_bylevel=None, colsample_bynode=None,\n",
       "              colsample_bytree=None, device=None, early_stopping_rounds=None,\n",
       "              enable_categorical=False, eval_metric=None, feature_types=None,\n",
       "              gamma=None, grow_policy=None, importance_type=None,\n",
       "              interaction_constraints=None, learning_rate=0.5, max_bin=None,\n",
       "              max_cat_threshold=None, max_cat_to_onehot=None,\n",
       "              max_delta_step=None, max_depth=10, max_leaves=None,\n",
       "              min_child_weight=None, missing=nan, monotone_constraints=None,\n",
       "              multi_strategy=None, n_estimators=100, n_jobs=None,\n",
       "              num_parallel_tree=None, random_state=42, ...)</pre></div></div></div></div></div>"
      ],
      "text/plain": [
       "XGBClassifier(base_score=None, booster=None, callbacks=None,\n",
       "              colsample_bylevel=None, colsample_bynode=None,\n",
       "              colsample_bytree=None, device=None, early_stopping_rounds=None,\n",
       "              enable_categorical=False, eval_metric=None, feature_types=None,\n",
       "              gamma=None, grow_policy=None, importance_type=None,\n",
       "              interaction_constraints=None, learning_rate=0.5, max_bin=None,\n",
       "              max_cat_threshold=None, max_cat_to_onehot=None,\n",
       "              max_delta_step=None, max_depth=10, max_leaves=None,\n",
       "              min_child_weight=None, missing=nan, monotone_constraints=None,\n",
       "              multi_strategy=None, n_estimators=100, n_jobs=None,\n",
       "              num_parallel_tree=None, random_state=42, ...)"
      ]
     },
     "execution_count": 72,
     "metadata": {},
     "output_type": "execute_result"
    }
   ],
   "source": [
    "xgb_model"
   ]
  },
  {
   "cell_type": "code",
   "execution_count": 73,
   "id": "7279244c",
   "metadata": {},
   "outputs": [
    {
     "name": "stdout",
     "output_type": "stream",
     "text": [
      "Mean cross-validation score: 0.93\n"
     ]
    }
   ],
   "source": [
    "scores = cross_val_score(xgb_model, X_train, y_train, cv=10)\n",
    "print(\"Mean cross-validation score: %.2f\" % scores.mean())\n"
   ]
  },
  {
   "cell_type": "code",
   "execution_count": 74,
   "id": "1e938e42",
   "metadata": {},
   "outputs": [
    {
     "name": "stdout",
     "output_type": "stream",
     "text": [
      "K-fold CV average score: 0.93\n"
     ]
    }
   ],
   "source": [
    "kfold = KFold(n_splits=10, shuffle=True)\n",
    "kf_cv_scores = cross_val_score(xgb_model, X_train, y_train, cv=kfold )\n",
    "print(\"K-fold CV average score: %.2f\" % kf_cv_scores.mean())\n"
   ]
  },
  {
   "cell_type": "code",
   "execution_count": null,
   "id": "ee2bd7c2",
   "metadata": {},
   "outputs": [],
   "source": [
    "from sklearn.ensemble import ExtraTreesClassifier\n",
    "clf = ExtraTreesClassifier(n_estimators=20, random_state=0)\n",
    "clf.fit(X_train, y_train)\n",
    "print(clf.score(X_train, y_train))\n",
    "print(clf.score(X_test, y_test))"
   ]
  },
  {
   "cell_type": "code",
   "execution_count": 75,
   "id": "4eda2dfd",
   "metadata": {},
   "outputs": [
    {
     "data": {
      "text/plain": [
       "array([0, 1, 1, ..., 1, 1, 1])"
      ]
     },
     "execution_count": 75,
     "metadata": {},
     "output_type": "execute_result"
    }
   ],
   "source": [
    "xgb_model.predict(X_test)"
   ]
  },
  {
   "cell_type": "code",
   "execution_count": 76,
   "id": "6a1eae18",
   "metadata": {},
   "outputs": [],
   "source": [
    "y_pred= xgb_model.predict(X_test)"
   ]
  },
  {
   "cell_type": "code",
   "execution_count": 77,
   "id": "c30772f8",
   "metadata": {},
   "outputs": [
    {
     "data": {
      "text/plain": [
       "array([[ 8579,  1810],\n",
       "       [ 1334, 33408]], dtype=int64)"
      ]
     },
     "execution_count": 77,
     "metadata": {},
     "output_type": "execute_result"
    }
   ],
   "source": [
    "from sklearn.metrics import confusion_matrix\n",
    "cm = confusion_matrix(y_test,y_pred)\n",
    "cm"
   ]
  },
  {
   "cell_type": "code",
   "execution_count": 78,
   "id": "182207ea",
   "metadata": {},
   "outputs": [
    {
     "data": {
      "text/plain": [
       "array([0, 1, 1, ..., 1, 1, 1])"
      ]
     },
     "execution_count": 78,
     "metadata": {},
     "output_type": "execute_result"
    }
   ],
   "source": [
    "y_pred"
   ]
  },
  {
   "cell_type": "code",
   "execution_count": 79,
   "id": "d05fbd8e",
   "metadata": {},
   "outputs": [
    {
     "data": {
      "text/plain": [
       "Text(58.222222222222214, 0.5, 'Truth')"
      ]
     },
     "execution_count": 79,
     "metadata": {},
     "output_type": "execute_result"
    },
    {
     "data": {
      "image/png": "[encoded data removed]",
      "text/plain": [
       "<Figure size 700x500 with 2 Axes>"
      ]
     },
     "metadata": {},
     "output_type": "display_data"
    }
   ],
   "source": [
    "#draw heatmap\n",
    "plt.figure(figsize = (7,5))\n",
    "sns.heatmap(cm, annot = True)\n",
    "plt.xlabel('Predicted')\n",
    "plt.ylabel('Truth')"
   ]
  },
  {
   "cell_type": "code",
   "execution_count": 80,
   "id": "d263a0de",
   "metadata": {},
   "outputs": [],
   "source": [
    "from sklearn.metrics import accuracy_score, f1_score,classification_report, roc_curve, auc"
   ]
  },
  {
   "cell_type": "code",
   "execution_count": 81,
   "id": "c132a653",
   "metadata": {},
   "outputs": [
    {
     "data": {
      "text/plain": [
       "0.9303361325917884"
      ]
     },
     "execution_count": 81,
     "metadata": {},
     "output_type": "execute_result"
    }
   ],
   "source": [
    "#check accuracy score.\n",
    "accuracy_score(y_test, y_pred)"
   ]
  },
  {
   "cell_type": "code",
   "execution_count": 82,
   "id": "6bb8f6ed",
   "metadata": {},
   "outputs": [
    {
     "data": {
      "text/plain": [
       "0.9297564568349349"
      ]
     },
     "execution_count": 82,
     "metadata": {},
     "output_type": "execute_result"
    }
   ],
   "source": [
    "f1_score(y_test,y_pred, average = 'weighted')"
   ]
  },
  {
   "cell_type": "code",
   "execution_count": 83,
   "id": "e4142527",
   "metadata": {},
   "outputs": [
    {
     "data": {
      "image/png": "[encoded data removed]",
      "text/plain": [
       "<Figure size 640x480 with 1 Axes>"
      ]
     },
     "metadata": {},
     "output_type": "display_data"
    }
   ],
   "source": [
    "# ROC curve and AUC\n",
    "fpr, tpr, thresholds = roc_curve(y_test, y_pred)\n",
    "roc_auc = auc(fpr, tpr)\n",
    "plt.plot(fpr, tpr, label='ROC curve (area = %0.2f)' % roc_auc)\n",
    "plt.plot([0, 1], [0, 1], 'm-')\n",
    "plt.xlim([0.0, 1.0])\n",
    "plt.ylim([0.0, 1.2])\n",
    "plt.xlabel('False Positive Rate')\n",
    "plt.ylabel('True Positive Rate')\n",
    "plt.title('ROC Curve')\n",
    "plt.legend()\n",
    "plt.show()"
   ]
  },
  {
   "cell_type": "code",
   "execution_count": 84,
   "id": "67900ea2",
   "metadata": {},
   "outputs": [
    {
     "name": "stdout",
     "output_type": "stream",
     "text": [
      "              precision    recall  f1-score   support\n",
      "\n",
      "           0       0.87      0.83      0.85     10389\n",
      "           1       0.95      0.96      0.96     34742\n",
      "\n",
      "    accuracy                           0.93     45131\n",
      "   macro avg       0.91      0.89      0.90     45131\n",
      "weighted avg       0.93      0.93      0.93     45131\n",
      "\n"
     ]
    }
   ],
   "source": [
    "print(classification_report(y_test, y_pred))"
   ]
  },
  {
   "cell_type": "code",
   "execution_count": null,
   "id": "2157ad78",
   "metadata": {},
   "outputs": [],
   "source": []
  }
 ],
 "metadata": {
  "kernelspec": {
   "display_name": "Python 3 (ipykernel)",
   "language": "python",
   "name": "python3"
  },
  "language_info": {
   "codemirror_mode": {
    "name": "ipython",
    "version": 3
   },
   "file_extension": ".py",
   "mimetype": "text/x-python",
   "name": "python",
   "nbconvert_exporter": "python",
   "pygments_lexer": "ipython3",
   "version": "3.10.11"
  }
 },
 "nbformat": 4,
 "nbformat_minor": 5
}
